{
 "cells": [
  {
   "cell_type": "markdown",
   "id": "9fd41e78",
   "metadata": {},
   "source": [
    "# Assignment_1"
   ]
  },
  {
   "cell_type": "markdown",
   "id": "8b5ad224",
   "metadata": {},
   "source": [
    "1. What does one mean by the term &quot;machine learning&quot;?"
   ]
  },
  {
   "cell_type": "markdown",
   "id": "ed06c656",
   "metadata": {},
   "source": [
    "Ans: Machine learning Popularly known as ML is a branch of Artificial Intelligence (AI) that allows software applications to become more accurate at predicting outcomes without being explicitly programmed to do so. Machine learning algorithms use historical data as input to predict new output values."
   ]
  },
  {
   "cell_type": "markdown",
   "id": "d265f406",
   "metadata": {},
   "source": [
    "2.Can you think of 4 distinct types of issues where it shines?"
   ]
  },
  {
   "cell_type": "markdown",
   "id": "f9eb6c8a",
   "metadata": {},
   "source": [
    "Image Recognition: Image recognition is one of the most common applications of machine learning. It is used to identify objects, persons, places, digital images, etc. The popular use case of image recognition and face detection is Automatic friend tagging suggestion.\n",
    "\n",
    "Speech Recognition: While using Google, we get an option of Search by voice, it comes under speech recognition, and it's a popular application of Machine Learning. Speech recognition is a process of converting voice instructions into text, and it is also known as Speech to text, or Computer based speech recognition At present, machine learning algorithms are widely used by various applications of speech recognition. Google assistant, Siri, Cortana, and Alexa are using speech recognition technology to follow the voice instructions.\n",
    "\n",
    "Traffic prediction: It predicts the traffic conditions such as whether traffic is cleared, slow-moving, or heavily congested with the help of two ways: Real Time location of the vehicle form Google Map app and sensors Average time has taken on past days at the same time.\n",
    "\n",
    "Product recommendations: Machine learning is widely used by various e-commerce and entertainment companies such as Amazon, Netflix, etc., for product recommendation to the user."
   ]
  },
  {
   "cell_type": "markdown",
   "id": "5ca2d6bb",
   "metadata": {},
   "source": [
    "3.What is a labeled training set, and how does it work ?"
   ]
  },
  {
   "cell_type": "markdown",
   "id": "b6ec88ca",
   "metadata": {},
   "source": [
    "Ans: You split up the data containing known response variable values into two pieces. The training set is used to train the algorithm, and then you use the trained model on the test set to predict the response variable values that are already known."
   ]
  },
  {
   "cell_type": "markdown",
   "id": "82096130",
   "metadata": {},
   "source": [
    "4.What are the two most important tasks that are supervised ?"
   ]
  },
  {
   "cell_type": "markdown",
   "id": "e17a4c30",
   "metadata": {},
   "source": [
    "Ans: The two most common supervised learning tasks are Regression and Classification."
   ]
  },
  {
   "cell_type": "markdown",
   "id": "7fdd1b25",
   "metadata": {},
   "source": [
    "5.Can you think of four examples of unsupervised tasks ?"
   ]
  },
  {
   "cell_type": "markdown",
   "id": "8d2fe2d5",
   "metadata": {},
   "source": [
    "Ans: Four common Unsupervised Tasks included Clustering, Visualization, Dimensionality Reduction, and Association Rule Learning."
   ]
  },
  {
   "cell_type": "markdown",
   "id": "87c44828",
   "metadata": {},
   "source": [
    "6.State the machine learning model that would be best to make a robot walk through various unfamiliar terrains ?"
   ]
  },
  {
   "cell_type": "markdown",
   "id": "b2facc00",
   "metadata": {},
   "source": [
    "Ans: The best Machine Learning algorithm to allow a Robot to walk in unfamiliar terrains is Reinforced Learning, where the robot can learn from response of the terrain to optimize itself."
   ]
  },
  {
   "cell_type": "markdown",
   "id": "0f676818",
   "metadata": {},
   "source": [
    "7.Which algorithm will you use to divide your customers into different groups ?"
   ]
  },
  {
   "cell_type": "markdown",
   "id": "7e1204db",
   "metadata": {},
   "source": [
    "Ans: The Best Algorithm to Segment Customers into different groups is either Supervised Learning (if the groups have known labels) or Unsupervised Learning (if there are no group labels)."
   ]
  },
  {
   "cell_type": "markdown",
   "id": "2dc86b39",
   "metadata": {},
   "source": [
    "8.Will you consider the problem of spam detection to be a supervised or unsupervised learning problem ?"
   ]
  },
  {
   "cell_type": "markdown",
   "id": "51fd1a50",
   "metadata": {},
   "source": [
    "Ans: Spam detection is a Supervised Machine Learning problem because the labels are known (spam or no spam)."
   ]
  },
  {
   "cell_type": "markdown",
   "id": "a4db338b",
   "metadata": {},
   "source": [
    "9.What is the concept of an online learning system ?"
   ]
  },
  {
   "cell_type": "markdown",
   "id": "9ec94c7f",
   "metadata": {},
   "source": [
    "Ans: Online learning system is a learning system in which the machine learns continously, as data is given in small streams continuously."
   ]
  },
  {
   "cell_type": "markdown",
   "id": "bf506fc1",
   "metadata": {},
   "source": [
    "10.What is out-of-core learning, and how does it differ from core learning ?"
   ]
  },
  {
   "cell_type": "markdown",
   "id": "8d85b391",
   "metadata": {},
   "source": [
    "Ans: Out-of-core learning system is a system that can handle data that cannot fit into your computer memory. It uses online learning system to feed data in small bits."
   ]
  },
  {
   "cell_type": "markdown",
   "id": "8d1ea4cd",
   "metadata": {},
   "source": [
    "11.What kind of learning algorithm makes predictions using a similarity measure ?"
   ]
  },
  {
   "cell_type": "markdown",
   "id": "297c88af",
   "metadata": {},
   "source": [
    "Ans: Learning algorithm that relies on a similarity measure to make predictions is Instance Based Algorithm."
   ]
  },
  {
   "cell_type": "markdown",
   "id": "a2d04512",
   "metadata": {},
   "source": [
    "12.What's the difference between a model parameter and a hyperparameter in a learning algorithm ?"
   ]
  },
  {
   "cell_type": "markdown",
   "id": "bb35da3a",
   "metadata": {},
   "source": [
    "Ans: Model parameter determines how a model will predict given a new instance. Model usually has more than one parameter (i.e. slope of a linear model). Hyperparameter is a parameter for the learning algorithm, not of a model.\n",
    "\n"
   ]
  },
  {
   "cell_type": "markdown",
   "id": "9ece1046",
   "metadata": {},
   "source": [
    "13.What are the criteria that model-based learning algorithms look for? What is the most popular method they use to achieve success? What method do they use to make predictions ?"
   ]
  },
  {
   "cell_type": "markdown",
   "id": "2b9e2535",
   "metadata": {},
   "source": [
    "Ans: Model based learning algorithm search for the optimal value of parameters in a model that will give the best results for the new instances. We often use a cost function or similar to determine what the parameter value has to be in order to minimize the function. The model makes prediction by using the value of the new instance and the parameters in its function."
   ]
  },
  {
   "cell_type": "markdown",
   "id": "a8519905",
   "metadata": {},
   "source": [
    "14.Can you name four of the most important Machine Learning challenges ?"
   ]
  },
  {
   "cell_type": "markdown",
   "id": "bbac76dc",
   "metadata": {},
   "source": [
    "Ans: Four main challenges in Machine Learning include the following:\n",
    "\n",
    "Overfitting the Data (using a model too complicated)\n",
    "\n",
    "Underfitting the data (using a simple model)\n",
    "\n",
    "Lacking in Data\n",
    "\n",
    "Non Representative Data."
   ]
  },
  {
   "cell_type": "markdown",
   "id": "ea6cd2dc",
   "metadata": {},
   "source": [
    "15.What happens if the model performs well on the training data but fails to generalize the results to new situations? Can you think of three different options ?"
   ]
  },
  {
   "cell_type": "markdown",
   "id": "ed56ab82",
   "metadata": {},
   "source": [
    "Ans: If the model performs poorly to new instances, then it has overfitted on the training data. To solve this, we can do any of the following three:\n",
    "\n",
    "Get more data\n",
    "\n",
    "Implement a simpler model\n",
    "\n",
    "Eliminate outliers or noise from the existing data set."
   ]
  },
  {
   "cell_type": "markdown",
   "id": "8d604015",
   "metadata": {},
   "source": [
    "16.What exactly is a test set, and why would you need one ?"
   ]
  },
  {
   "cell_type": "markdown",
   "id": "49fe944a",
   "metadata": {},
   "source": [
    "Ans: Test set is a set to test your model (fit using training data) to see how it performs.Test set is necessary to determine how good (or bad) a model performs."
   ]
  },
  {
   "cell_type": "markdown",
   "id": "807a3919",
   "metadata": {},
   "source": [
    "17.What is a validation set's purpose ?"
   ]
  },
  {
   "cell_type": "markdown",
   "id": "6cb3ae1e",
   "metadata": {},
   "source": [
    "Ans: Validation set is a set used to compare between different training models."
   ]
  },
  {
   "cell_type": "markdown",
   "id": "d465c2dc",
   "metadata": {},
   "source": [
    "18.What precisely is the train-dev kit, when will you need it, how do you put it to use ?"
   ]
  },
  {
   "cell_type": "markdown",
   "id": "48cea18c",
   "metadata": {},
   "source": [
    "Ans: Cross-validation is a tool to compare models without needing a separate validation set. It is preferred over validation set because we can save from breaking of part of the training set to create a validation set, as having more data is valuable regardless."
   ]
  },
  {
   "cell_type": "markdown",
   "id": "e3e2b686",
   "metadata": {},
   "source": [
    "19.What could go wrong if you use the test set to tune hyperparameters ?\n"
   ]
  },
  {
   "cell_type": "markdown",
   "id": "f1cb50ef",
   "metadata": {},
   "source": [
    "Ans: If you tune hyperparameters using the test sets, then it may not perform well on the out-of-sample data because the model is tuned just for that specific set."
   ]
  },
  {
   "cell_type": "markdown",
   "id": "687ad5c4",
   "metadata": {},
   "source": []
  }
 ],
 "metadata": {
  "kernelspec": {
   "display_name": "Python 3 (ipykernel)",
   "language": "python",
   "name": "python3"
  },
  "language_info": {
   "codemirror_mode": {
    "name": "ipython",
    "version": 3
   },
   "file_extension": ".py",
   "mimetype": "text/x-python",
   "name": "python",
   "nbconvert_exporter": "python",
   "pygments_lexer": "ipython3",
   "version": "3.9.6"
  }
 },
 "nbformat": 4,
 "nbformat_minor": 5
}
