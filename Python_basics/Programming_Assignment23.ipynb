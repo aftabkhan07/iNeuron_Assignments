{
 "cells": [
  {
   "cell_type": "markdown",
   "id": "6f19c34f",
   "metadata": {},
   "source": [
    "# Programming_Assignment23"
   ]
  },
  {
   "cell_type": "markdown",
   "id": "6e4edc37",
   "metadata": {},
   "source": [
    "Question 1 Create a function that takes a number as an argument and returns True or False depending\n",
    "on whether the number is symmetrical or not. A number is symmetrical when it is the same as\n",
    "its reverse.\n",
    "\n",
    "Examples\n",
    "\n",
    "is_symmetrical(7227) ➞ True\n",
    "\n",
    "is_symmetrical(12567) ➞ False\n",
    "\n",
    "is_symmetrical(44444444) ➞ True\n",
    "\n",
    "is_symmetrical(9939) ➞ False\n",
    "\n",
    "is_symmetrical(1112111) ➞ True"
   ]
  },
  {
   "cell_type": "code",
   "execution_count": 1,
   "id": "1c656ddf",
   "metadata": {},
   "outputs": [
    {
     "data": {
      "text/plain": [
       "True"
      ]
     },
     "execution_count": 1,
     "metadata": {},
     "output_type": "execute_result"
    }
   ],
   "source": [
    "def is_symmetrical(integer):\n",
    "    inti = f\"{integer}\"\n",
    "    inti = inti[::-1]\n",
    "    integer1 = int(inti)\n",
    "    if integer == integer1:\n",
    "        return True\n",
    "    else:\n",
    "        return False\n",
    "is_symmetrical(1112111)"
   ]
  },
  {
   "cell_type": "markdown",
   "id": "06838f4b",
   "metadata": {},
   "source": [
    "Question 2 Given a string of numbers separated by a comma and space, return the product of the\n",
    "numbers.\n",
    "\n",
    "Examples\n",
    "\n",
    "multiply_nums(&quot;2, 3&quot;) ➞ 6\n",
    "\n",
    "multiply_nums(&quot;1, 2, 3, 4&quot;) ➞ 24\n",
    "\n",
    "multiply_nums(&quot;54, 75, 453, 0&quot;) ➞ 0\n",
    "\n",
    "multiply_nums(&quot;10, -2&quot;) ➞ -20"
   ]
  },
  {
   "cell_type": "code",
   "execution_count": 6,
   "id": "8f1e7879",
   "metadata": {},
   "outputs": [
    {
     "data": {
      "text/plain": [
       "-20"
      ]
     },
     "execution_count": 6,
     "metadata": {},
     "output_type": "execute_result"
    }
   ],
   "source": [
    "def multiply_nums(a):\n",
    "    b = a.split(\",\")\n",
    "    result = 1\n",
    "    for i in b:\n",
    "        result = result*int(i)\n",
    "    return result\n",
    "multiply_nums(\"10, -2\") "
   ]
  },
  {
   "cell_type": "markdown",
   "id": "56dc8974",
   "metadata": {},
   "source": [
    "Question 3 Create a function that squares every digit of a number.\n",
    "\n",
    "Examples\n",
    "\n",
    "square_digits(9119) ➞ 811181\n",
    "\n",
    "square_digits(2483) ➞ 416649\n",
    "\n",
    "square_digits(3212) ➞ 9414"
   ]
  },
  {
   "cell_type": "code",
   "execution_count": 12,
   "id": "2564cd5d",
   "metadata": {},
   "outputs": [
    {
     "data": {
      "text/plain": [
       "811181"
      ]
     },
     "execution_count": 12,
     "metadata": {},
     "output_type": "execute_result"
    }
   ],
   "source": [
    "def square_digits(a):\n",
    "    b = \"\"\n",
    "    for i in str(a):\n",
    "        b+=str(int(i)**2)\n",
    "    return int(b)\n",
    "\n",
    "square_digits(9119) "
   ]
  },
  {
   "cell_type": "markdown",
   "id": "98acfd7f",
   "metadata": {},
   "source": [
    "Question 4\n",
    "\n",
    "Create a function that sorts a list and removes all duplicate items from it.\n",
    "\n",
    "Examples\n",
    "\n",
    "setify([1, 3, 3, 5, 5]) ➞ [1, 3, 5]\n",
    "\n",
    "setify([4, 4, 4, 4]) ➞ [4]\n",
    "\n",
    "setify([5, 7, 8, 9, 10, 15]) ➞ [5, 7, 8, 9, 10, 15]\n",
    "\n",
    "setify([3, 3, 3, 2, 1]) ➞ [1, 2, 3]"
   ]
  },
  {
   "cell_type": "code",
   "execution_count": 13,
   "id": "fffc0c85",
   "metadata": {},
   "outputs": [
    {
     "data": {
      "text/plain": [
       "[1, 3, 5]"
      ]
     },
     "execution_count": 13,
     "metadata": {},
     "output_type": "execute_result"
    }
   ],
   "source": [
    "def setify(list1):\n",
    "    a = []\n",
    "    for i in list1:\n",
    "        if i not in a:\n",
    "            a.append(i)\n",
    "    return a\n",
    "\n",
    "setify([1, 3, 3, 5, 5])    "
   ]
  },
  {
   "cell_type": "markdown",
   "id": "d461b52e",
   "metadata": {},
   "source": [
    "Question 5\n",
    "\n",
    "Create a function that returns the mean of all digits.\n",
    "\n",
    "Examples\n",
    "\n",
    "mean(42) ➞ 3\n",
    "\n",
    "mean(12345) ➞ 3\n",
    "\n",
    "mean(666) ➞ 6"
   ]
  },
  {
   "cell_type": "code",
   "execution_count": 21,
   "id": "dc856a63",
   "metadata": {},
   "outputs": [
    {
     "data": {
      "text/plain": [
       "6"
      ]
     },
     "execution_count": 21,
     "metadata": {},
     "output_type": "execute_result"
    }
   ],
   "source": [
    "def mean(a):\n",
    "    b = str(a)\n",
    "    c = \n",
    "    sumuer = sum(c)\n",
    "    return [int(i) for i in b]\n",
    "\n",
    "mean(42)"
   ]
  },
  {
   "cell_type": "code",
   "execution_count": null,
   "id": "ea1f657e",
   "metadata": {},
   "outputs": [],
   "source": []
  }
 ],
 "metadata": {
  "kernelspec": {
   "display_name": "Python 3 (ipykernel)",
   "language": "python",
   "name": "python3"
  },
  "language_info": {
   "codemirror_mode": {
    "name": "ipython",
    "version": 3
   },
   "file_extension": ".py",
   "mimetype": "text/x-python",
   "name": "python",
   "nbconvert_exporter": "python",
   "pygments_lexer": "ipython3",
   "version": "3.9.6"
  }
 },
 "nbformat": 4,
 "nbformat_minor": 5
}
