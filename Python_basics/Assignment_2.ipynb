{
 "cells": [
  {
   "cell_type": "markdown",
   "metadata": {
    "id": "IM6U1NpsGF56"
   },
   "source": [
    "#Assignment_2"
   ]
  },
  {
   "cell_type": "markdown",
   "metadata": {
    "id": "sjRZ_LzwGLRs"
   },
   "source": [
    "1.What are the two values of the Boolean data type? How do you write them?\n",
    "\n",
    "Soln:\n",
    "- True, False"
   ]
  },
  {
   "cell_type": "code",
   "execution_count": 1,
   "metadata": {
    "colab": {
     "base_uri": "https://localhost:8080/"
    },
    "executionInfo": {
     "elapsed": 484,
     "status": "ok",
     "timestamp": 1671870882644,
     "user": {
      "displayName": "Khan Aftab",
      "userId": "06038543326307673619"
     },
     "user_tz": -180
    },
    "id": "5b27-pcJJCJK",
    "outputId": "2668abed-3c92-4084-a226-942b79406c90"
   },
   "outputs": [
    {
     "name": "stdout",
     "output_type": "stream",
     "text": [
      "True False\n"
     ]
    }
   ],
   "source": [
    "a = True\n",
    "b = False\n",
    "print(a,b)"
   ]
  },
  {
   "cell_type": "markdown",
   "metadata": {
    "id": "_r2-IpiDH7Qs"
   },
   "source": [
    "2. What are the three different types of Boolean operators?\n",
    "\n",
    "Soln:\n",
    "- AND, NOT, OR\n"
   ]
  },
  {
   "cell_type": "markdown",
   "metadata": {
    "id": "aS-x2DDkIMLK"
   },
   "source": [
    "3. Make a list of each Boolean operator&#39;s truth tables (i.e. every possible combination of Boolean\n",
    "values for the operator and what it evaluate ).\n",
    "\n",
    "Soln:\n",
    "\n",
    "- True and True is True.\n",
    "\n",
    "- True and False is False.\n",
    "\n",
    "- False and True is False.\n",
    "\n",
    "- False and False is False.\n",
    "\n",
    "- True or True is True.\n",
    "\n",
    "- True or False is True.\n",
    "\n",
    "- False or True is True.\n",
    "\n",
    "- False or False is False.\n",
    "\n",
    "- not True is False.\n",
    "\n",
    "- not False is True."
   ]
  },
  {
   "cell_type": "markdown",
   "metadata": {
    "id": "ukDlpH_zNSbO"
   },
   "source": [
    "4. What are the values of the following expressions?\n",
    "(5 &gt; 4) and (3 == 5)\n",
    "not (5 &gt; 4)\n",
    "(5 &gt; 4) or (3 == 5)\n",
    "not ((5 &gt; 4) or (3 == 5))\n",
    "(True and True) and (True == False)\n",
    "(not False) or (not True)\n",
    "\n",
    "Soln:\n",
    "\n",
    "- False\n",
    "False\n",
    "True\n",
    "False\n",
    "False\n",
    "True"
   ]
  },
  {
   "cell_type": "markdown",
   "metadata": {
    "id": "y_3SSX-OOe-0"
   },
   "source": [
    "5. What are the six comparison operators?\n",
    "\n",
    "Soln:\n",
    "- ==, !=, <, >, <=, and >="
   ]
  },
  {
   "cell_type": "markdown",
   "metadata": {
    "id": "-MDDqCkLOiJr"
   },
   "source": [
    "6. How do you tell the difference between the equal to and assignment operators?Describe a\n",
    "condition and when you would use one.\n",
    "\n",
    "Soln:\n"
   ]
  },
  {
   "cell_type": "code",
   "execution_count": 2,
   "metadata": {
    "colab": {
     "base_uri": "https://localhost:8080/"
    },
    "executionInfo": {
     "elapsed": 491,
     "status": "ok",
     "timestamp": 1671870394671,
     "user": {
      "displayName": "Khan Aftab",
      "userId": "06038543326307673619"
     },
     "user_tz": -180
    },
    "id": "wf3sS_NDOupZ",
    "outputId": "fc77bb09-65a1-4be5-8870-90c125559922"
   },
   "outputs": [
    {
     "name": "stdout",
     "output_type": "stream",
     "text": [
      "it is False\n"
     ]
    }
   ],
   "source": [
    "# An assignment opereator is used to assign where as equal operator is used to check if the teo data are equal or not\n",
    "# eg.\n",
    "if (1==2): # equal operator\n",
    "  print(\"it is True\")\n",
    "else:\n",
    "  print(\"it is False\")\n",
    "\n",
    "a = 2 # assignment operator"
   ]
  },
  {
   "cell_type": "markdown",
   "metadata": {
    "id": "nsMwMulIPskr"
   },
   "source": [
    "7. Identify the three blocks in this code:\n",
    "spam = 0\n",
    "if spam == 10:\n",
    "print(&#39;eggs&#39;)\n",
    "if spam &gt; 5:\n",
    "print(&#39;bacon&#39;)\n",
    "else:\n",
    "print(&#39;ham&#39;)\n",
    "print(&#39;spam&#39;)\n",
    "print(&#39;spam&#39;)\n",
    "\n",
    "Soln:\n"
   ]
  },
  {
   "cell_type": "code",
   "execution_count": 3,
   "metadata": {
    "colab": {
     "base_uri": "https://localhost:8080/"
    },
    "executionInfo": {
     "elapsed": 6,
     "status": "ok",
     "timestamp": 1671870621274,
     "user": {
      "displayName": "Khan Aftab",
      "userId": "06038543326307673619"
     },
     "user_tz": -180
    },
    "id": "C2_Ql_LzQNm4",
    "outputId": "aae42902-a706-443c-b62e-f46865cce1bb"
   },
   "outputs": [
    {
     "name": "stdout",
     "output_type": "stream",
     "text": [
      "ham\n",
      "spam\n",
      "spam\n"
     ]
    }
   ],
   "source": [
    "spam = 0\n",
    "if spam == 10:\n",
    "    print('eggs') #Block 1\n",
    "if spam > 5:\n",
    "    print('bacon') #Block 2\n",
    "else:\n",
    "    print('ham') #Block 3\n",
    "    print('spam')\n",
    "    print('spam')"
   ]
  },
  {
   "cell_type": "markdown",
   "metadata": {
    "id": "hkKwonksQVZY"
   },
   "source": [
    "8. Write code that prints Hello if 1 is stored in spam, prints Howdy if 2 is stored in spam, and prints\n",
    "Greetings! if anything else is stored in spam.\n",
    "\n",
    "Soln:\n"
   ]
  },
  {
   "cell_type": "code",
   "execution_count": 4,
   "metadata": {
    "id": "9sTvJlN5Qijl"
   },
   "outputs": [
    {
     "name": "stdout",
     "output_type": "stream",
     "text": [
      "please enter 1 or 2 : 1\n",
      "Hello\n"
     ]
    }
   ],
   "source": [
    "spam = input(\"please enter 1 or 2 : \")\n",
    "\n",
    "if spam==\"1\":\n",
    "  print(\"Hello\")\n",
    "elif spam==\"2\":\n",
    "  print(\"Howdy\")\n",
    "else:\n",
    "  print(\"Greetings!\")"
   ]
  },
  {
   "cell_type": "markdown",
   "metadata": {
    "id": "0FIkprWzQprC"
   },
   "source": [
    "9.If your programme is stuck in an endless loop, what keys you’ll press?\n",
    "\n",
    "Soln:\n",
    "- ctrl + c"
   ]
  },
  {
   "cell_type": "markdown",
   "metadata": {},
   "source": [
    "10. How can you tell the difference between break and continue?\n",
    "\n",
    "Soln:\n",
    "\n",
    "- In break the loop will get terminated as soon as the scenario matches \n",
    "- In continue loop will not get terminated instead it will not print or execute the code beneath that if the scenario matches and then continue"
   ]
  },
  {
   "cell_type": "markdown",
   "metadata": {},
   "source": [
    "11. In a for loop, what is the difference between range(10), range(0, 10), and range(0, 10, 1)?\n",
    "\n",
    "Soln:\n",
    "\n",
    "- The range(10) call ranges from 0 up to (but not including) 10, range(0, 10) tells the loop to start at 0, and range(0, 10, 1) tells the loop to increase 1"
   ]
  },
  {
   "cell_type": "markdown",
   "metadata": {},
   "source": [
    "12. Write a short program that prints the numbers 1 to 10 using a for loop. Then write an equivalent\n",
    "program that prints the numbers 1 to 10 using a while loop.\n",
    "\n",
    "Soln:"
   ]
  },
  {
   "cell_type": "code",
   "execution_count": 9,
   "metadata": {},
   "outputs": [
    {
     "name": "stdout",
     "output_type": "stream",
     "text": [
      "1\n",
      "2\n",
      "3\n",
      "4\n",
      "5\n",
      "6\n",
      "7\n",
      "8\n",
      "9\n",
      "10\n",
      "-------------------------\n",
      "1\n",
      "2\n",
      "3\n",
      "4\n",
      "5\n",
      "6\n",
      "7\n",
      "8\n",
      "9\n",
      "10\n"
     ]
    }
   ],
   "source": [
    "for i in range(1,11):\n",
    "    print(i)\n",
    "print(\"-------------------------\")\n",
    "i = 1\n",
    "while i<=10:\n",
    "    print(i)\n",
    "    i+=1"
   ]
  },
  {
   "cell_type": "markdown",
   "metadata": {},
   "source": [
    "13. If you had a function named bacon() inside a module named spam, how would you call it after\n",
    "importing spam?\n",
    "\n",
    "Soln:\n",
    "- spam.bacon()"
   ]
  },
  {
   "cell_type": "code",
   "execution_count": null,
   "metadata": {},
   "outputs": [],
   "source": []
  }
 ],
 "metadata": {
  "colab": {
   "authorship_tag": "ABX9TyNaTD0MRf2njS9d2o96BP8u",
   "provenance": []
  },
  "kernelspec": {
   "display_name": "Python 3 (ipykernel)",
   "language": "python",
   "name": "python3"
  },
  "language_info": {
   "codemirror_mode": {
    "name": "ipython",
    "version": 3
   },
   "file_extension": ".py",
   "mimetype": "text/x-python",
   "name": "python",
   "nbconvert_exporter": "python",
   "pygments_lexer": "ipython3",
   "version": "3.9.7"
  }
 },
 "nbformat": 4,
 "nbformat_minor": 1
}
