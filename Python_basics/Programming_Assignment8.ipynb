{
 "cells": [
  {
   "cell_type": "markdown",
   "id": "b3165493",
   "metadata": {},
   "source": [
    "# Programming_Assignment8"
   ]
  },
  {
   "cell_type": "code",
   "execution_count": 23,
   "id": "86a08e07",
   "metadata": {},
   "outputs": [
    {
     "name": "stdout",
     "output_type": "stream",
     "text": [
      "[[13 47 80]\n",
      " [12 13 91]\n",
      " [16 14 86]]\n"
     ]
    }
   ],
   "source": [
    "import numpy as np\n",
    "\n",
    "mat1 = np.array([[1,4,6],\n",
    "        [7,5,88],\n",
    "        [8,5,77]])\n",
    "mat2 = np.array([[12,43,74],\n",
    "        [5,8,3],\n",
    "        [8,9,9]])\n",
    "\n",
    "Matsum = mat1+mat2\n",
    "print(Matsum)\n"
   ]
  },
  {
   "cell_type": "markdown",
   "id": "02dc6025",
   "metadata": {},
   "source": [
    "2. Write a Python Program to Multiply Two Matrices?"
   ]
  },
  {
   "cell_type": "code",
   "execution_count": 25,
   "id": "8c56f026",
   "metadata": {},
   "outputs": [
    {
     "name": "stdout",
     "output_type": "stream",
     "text": [
      "[[  80  129  140]\n",
      " [ 813 1133 1325]\n",
      " [ 737 1077 1300]]\n"
     ]
    }
   ],
   "source": [
    "import numpy as np\n",
    "\n",
    "mat1 = np.array([[1,4,6],\n",
    "        [7,5,88],\n",
    "        [8,5,77]])\n",
    "mat2 = np.array([[12,43,74],\n",
    "        [5,8,3],\n",
    "        [8,9,9]])\n",
    "\n",
    "Matmul = np.dot(mat1,mat2)\n",
    "print(Matmul)"
   ]
  },
  {
   "cell_type": "markdown",
   "id": "4b1db2b0",
   "metadata": {},
   "source": [
    "3. Write a Python Program to Transpose a Matrix?"
   ]
  },
  {
   "cell_type": "code",
   "execution_count": 6,
   "id": "d640cb48",
   "metadata": {},
   "outputs": [
    {
     "name": "stdout",
     "output_type": "stream",
     "text": [
      "[[ 1  7  8]\n",
      " [ 4  5  5]\n",
      " [ 6 88 77]]\n"
     ]
    }
   ],
   "source": [
    "import numpy as np\n",
    "\n",
    "mat1 = np.array([[1,4,6],\n",
    "                 [7,5,88],\n",
    "                 [8,5,77]])\n",
    "\n",
    "Mattrans = np.transpose(mat1)\n",
    "print(Mattrans)\n"
   ]
  },
  {
   "cell_type": "markdown",
   "id": "8e4912ad",
   "metadata": {},
   "source": [
    "4. Write a Python Program to Sort Words in Alphabetic Order?"
   ]
  },
  {
   "cell_type": "code",
   "execution_count": 4,
   "id": "d9d4e92e",
   "metadata": {},
   "outputs": [
    {
     "name": "stdout",
     "output_type": "stream",
     "text": [
      "['a', 'a', 'a', 'b', 'f', 'h', 'k', 'n', 't']\n"
     ]
    }
   ],
   "source": [
    "string1 = \"aftabkhan\"\n",
    "string = [string1[i] for i in range(len(string1))]\n",
    "\n",
    "for i in range(len(string)):\n",
    "    for j in range(i+1,len(string)):\n",
    "        if ord(string[j])<ord(string[i]):\n",
    "            string[j],string[i]=string[i],string[j]\n",
    "print(string)"
   ]
  },
  {
   "cell_type": "markdown",
   "id": "7c827b07",
   "metadata": {},
   "source": [
    "5. Write a Python Program to Remove Punctuation From a String?"
   ]
  },
  {
   "cell_type": "code",
   "execution_count": 5,
   "id": "dbbbc848",
   "metadata": {},
   "outputs": [
    {
     "name": "stdout",
     "output_type": "stream",
     "text": [
      "Enter a string with punctuations : hello's aftab/ khan@\n",
      "hellos aftab khan\n"
     ]
    }
   ],
   "source": [
    "punctuations = '''!()-[]{};:'\"\\,<>./?@#$%^&*_~'''\n",
    "\n",
    "Arr = input(\"Enter a string with punctuations : \")\n",
    "\n",
    "rem_punc = \"\"\n",
    "for i in Arr:\n",
    "    if i not in punctuations:\n",
    "        rem_punc = rem_punc + i\n",
    "\n",
    "# display \n",
    "print(rem_punc)"
   ]
  }
 ],
 "metadata": {
  "kernelspec": {
   "display_name": "Python 3 (ipykernel)",
   "language": "python",
   "name": "python3"
  },
  "language_info": {
   "codemirror_mode": {
    "name": "ipython",
    "version": 3
   },
   "file_extension": ".py",
   "mimetype": "text/x-python",
   "name": "python",
   "nbconvert_exporter": "python",
   "pygments_lexer": "ipython3",
   "version": "3.9.6"
  }
 },
 "nbformat": 4,
 "nbformat_minor": 5
}
