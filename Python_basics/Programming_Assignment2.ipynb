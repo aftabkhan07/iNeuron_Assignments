{
 "cells": [
  {
   "cell_type": "markdown",
   "id": "1a475b75",
   "metadata": {},
   "source": [
    "# Programming_Assignment2\n"
   ]
  },
  {
   "cell_type": "markdown",
   "id": "508f1957",
   "metadata": {},
   "source": [
    "1. Write a Python program to convert kilometers to miles?"
   ]
  },
  {
   "cell_type": "code",
   "execution_count": 20,
   "id": "e63e8edb",
   "metadata": {},
   "outputs": [
    {
     "name": "stdout",
     "output_type": "stream",
     "text": [
      "please enter the kilometers : 3\n"
     ]
    },
    {
     "data": {
      "text/plain": [
       "1.8641135699999998"
      ]
     },
     "execution_count": 20,
     "metadata": {},
     "output_type": "execute_result"
    }
   ],
   "source": [
    "a = float(input(\"please enter the kilometers : \"))\n",
    "b = a*0.62137119\n",
    "b"
   ]
  },
  {
   "cell_type": "markdown",
   "id": "c7c4629c",
   "metadata": {},
   "source": [
    "2. Write a Python program to convert Celsius to Fahrenheit?"
   ]
  },
  {
   "cell_type": "code",
   "execution_count": 21,
   "id": "b01139f6",
   "metadata": {},
   "outputs": [
    {
     "name": "stdout",
     "output_type": "stream",
     "text": [
      "please enter the temperature in celsius : 100\n"
     ]
    },
    {
     "data": {
      "text/plain": [
       "212.0"
      ]
     },
     "execution_count": 21,
     "metadata": {},
     "output_type": "execute_result"
    }
   ],
   "source": [
    "a = float(input(\"please enter the temperature in celsius : \"))\n",
    "b = a*1.8+32\n",
    "b"
   ]
  },
  {
   "cell_type": "markdown",
   "id": "e0691ccc",
   "metadata": {},
   "source": [
    "3. Write a Python program to display calendar?"
   ]
  },
  {
   "cell_type": "code",
   "execution_count": 22,
   "id": "d8fb87da",
   "metadata": {},
   "outputs": [
    {
     "name": "stdout",
     "output_type": "stream",
     "text": [
      "Enter year = 22\n",
      "Enter month in number = 12\n",
      "    December 22\n",
      "Mo Tu We Th Fr Sa Su\n",
      "          1  2  3  4\n",
      " 5  6  7  8  9 10 11\n",
      "12 13 14 15 16 17 18\n",
      "19 20 21 22 23 24 25\n",
      "26 27 28 29 30 31\n",
      "\n"
     ]
    }
   ],
   "source": [
    "import calendar\n",
    "yy = int(input(\"Enter year = \"))\n",
    "mm = int(input(\"Enter month in number = \"))\n",
    "print(calendar.month(yy,mm))"
   ]
  },
  {
   "cell_type": "markdown",
   "id": "5d99adee",
   "metadata": {},
   "source": [
    "4. Write a Python program to solve quadratic equation?"
   ]
  },
  {
   "cell_type": "code",
   "execution_count": 23,
   "id": "93041cff",
   "metadata": {},
   "outputs": [
    {
     "name": "stdout",
     "output_type": "stream",
     "text": [
      "Enter a = 1\n",
      "Enter b = 2\n",
      "Enter c = 4\n",
      "Two soln (-1+1.7320508075688772j), (-1-1.7320508075688772j)\n"
     ]
    }
   ],
   "source": [
    "import cmath\n",
    "a=int(input(\"Enter a = \"))\n",
    "b=int(input(\"Enter b = \"))\n",
    "c=int(input(\"Enter c = \"))\n",
    "\n",
    "d = ((b**2)-(4*c*a))\n",
    "soln1 = (-b+cmath.sqrt(d))/(2*a)\n",
    "soln2 = (-b-cmath.sqrt(d))/(2*a)\n",
    "\n",
    "print(f\"Two soln {soln1}, {soln2}\")\n",
    "# we ued cmath inst so it includes imaginary terms too"
   ]
  },
  {
   "cell_type": "markdown",
   "id": "08971158",
   "metadata": {},
   "source": [
    "5. Write a Python program to swap two variables without temp variable?"
   ]
  },
  {
   "cell_type": "code",
   "execution_count": 24,
   "id": "97db7aa8",
   "metadata": {},
   "outputs": [
    {
     "name": "stdout",
     "output_type": "stream",
     "text": [
      "Please enter you input1 : 1\n",
      "Please enter you input2 : 2\n",
      "\n",
      "First Variable Before swap  : 1.0 \n",
      "Second variable Before Swap  : 2.0\n",
      "After Swap : \n",
      "First Variabe : 2.0 \n",
      "Second Variable : 1.0\n"
     ]
    }
   ],
   "source": [
    "a = float((input(\"Please enter you input1 : \")))\n",
    "b = float((input(\"Please enter you input2 : \")))\n",
    "\n",
    "print(f\"\\nFirst Variable Before swap  : {a} \\nSecond variable Before Swap  : {b}\")\n",
    "a , b = b , a\n",
    "\n",
    "print(f\"After Swap : \\nFirst Variabe : {a} \\nSecond Variable : {b}\")"
   ]
  }
 ],
 "metadata": {
  "kernelspec": {
   "display_name": "Python 3 (ipykernel)",
   "language": "python",
   "name": "python3"
  },
  "language_info": {
   "codemirror_mode": {
    "name": "ipython",
    "version": 3
   },
   "file_extension": ".py",
   "mimetype": "text/x-python",
   "name": "python",
   "nbconvert_exporter": "python",
   "pygments_lexer": "ipython3",
   "version": "3.9.6"
  }
 },
 "nbformat": 4,
 "nbformat_minor": 5
}
