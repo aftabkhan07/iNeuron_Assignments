{
 "cells": [
  {
   "cell_type": "markdown",
   "id": "0822749a",
   "metadata": {},
   "source": [
    "# Programming_Assignment11"
   ]
  },
  {
   "cell_type": "markdown",
   "id": "7422d0e7",
   "metadata": {},
   "source": [
    "1. Write a Python program to find words which are greater than given length k?"
   ]
  },
  {
   "cell_type": "code",
   "execution_count": 5,
   "id": "0779e823",
   "metadata": {},
   "outputs": [
    {
     "name": "stdout",
     "output_type": "stream",
     "text": [
      "enter the value of k : 3\n",
      "enter the string : my name is aftab\n"
     ]
    },
    {
     "data": {
      "text/plain": [
       "['name', 'aftab']"
      ]
     },
     "execution_count": 5,
     "metadata": {},
     "output_type": "execute_result"
    }
   ],
   "source": [
    "def words(k,string):\n",
    "    list = string.split(\" \")\n",
    "    list1 = []\n",
    "    for i in range(len(list)):\n",
    "        if len(list[i])>k:\n",
    "            list1.append(list[i])\n",
    "    return list1\n",
    "        \n",
    "k = int(input(\"enter the value of k : \"))\n",
    "string = input(\"enter the string : \")\n",
    "\n",
    "words(k,string)"
   ]
  },
  {
   "cell_type": "markdown",
   "id": "282d4998",
   "metadata": {},
   "source": [
    "2. Write a Python program for removing i-th character from a string?"
   ]
  },
  {
   "cell_type": "code",
   "execution_count": 6,
   "id": "021ec3b2",
   "metadata": {},
   "outputs": [
    {
     "name": "stdout",
     "output_type": "stream",
     "text": [
      "enter the value of i : 3\n",
      "enter the string : hi there\n"
     ]
    },
    {
     "data": {
      "text/plain": [
       "'hi here'"
      ]
     },
     "execution_count": 6,
     "metadata": {},
     "output_type": "execute_result"
    }
   ],
   "source": [
    "def ith(i,string):\n",
    "    str1 = \"\"\n",
    "    for j in range(len(string)):\n",
    "        if j!=i:\n",
    "            str1+=string[j]\n",
    "    return str1\n",
    "        \n",
    "i = int(input(\"enter the value of i : \"))\n",
    "string = input(\"enter the string : \")\n",
    "\n",
    "ith(i,string)"
   ]
  },
  {
   "cell_type": "markdown",
   "id": "299f8c1c",
   "metadata": {},
   "source": [
    "3. Write a Python program to split and join a string?"
   ]
  },
  {
   "cell_type": "code",
   "execution_count": 16,
   "id": "2d6748f5",
   "metadata": {},
   "outputs": [
    {
     "name": "stdout",
     "output_type": "stream",
     "text": [
      "enter the string : my name is aftab\n",
      "['my', 'name', 'is', 'aftab']\n",
      "my-name-is-aftab\n"
     ]
    }
   ],
   "source": [
    "def split(string):\n",
    "    list1 = string.split(\" \")\n",
    "    return list1\n",
    "\n",
    "def join(list1):\n",
    "    list = (\"-\").join(list1)\n",
    "    return list\n",
    "\n",
    "string = input(\"enter the string : \")\n",
    "\n",
    "split(string)\n",
    "list1 = split(string)\n",
    "\n",
    "print(list1)\n",
    "print(join(list1))"
   ]
  },
  {
   "cell_type": "markdown",
   "id": "521f0034",
   "metadata": {},
   "source": [
    "4. Write a Python to check if a given string is binary string or not?"
   ]
  },
  {
   "cell_type": "code",
   "execution_count": 17,
   "id": "61b0210f",
   "metadata": {},
   "outputs": [
    {
     "name": "stdout",
     "output_type": "stream",
     "text": [
      "Enter the string : 01010100\n",
      "Binary\n"
     ]
    }
   ],
   "source": [
    "def ifbinary(str):\n",
    "    binary = '01'\n",
    "    for i in range(len(str)):\n",
    "        if str[i] not in binary:\n",
    "            print('Not Binary')\n",
    "            break\n",
    "    else:\n",
    "        print('Binary')\n",
    "        \n",
    "str = input(\"Enter the string : \")\n",
    "ifbinary(str)"
   ]
  },
  {
   "cell_type": "markdown",
   "id": "be9889e4",
   "metadata": {},
   "source": [
    "5. Write a Python program to find uncommon words from two Strings?"
   ]
  },
  {
   "cell_type": "code",
   "execution_count": 22,
   "id": "f6dff9df",
   "metadata": {},
   "outputs": [
    {
     "name": "stdout",
     "output_type": "stream",
     "text": [
      "enter the string1 : my name is rahul\n",
      "enter the string2 : my name is aftab\n",
      "Not a match\n"
     ]
    }
   ],
   "source": [
    "string1 = input(\"enter the string1 : \")\n",
    "string2 = input(\"enter the string2 : \")\n",
    "mainswitch = \"True\"\n",
    "\n",
    "list1 = string1.split(\" \")\n",
    "list2 = string2.split(\" \")\n",
    "\n",
    "for i in list1:\n",
    "    switch = []\n",
    "    for j in list2:\n",
    "        if i == j:\n",
    "            switch.append(\"True\")\n",
    "        else:\n",
    "            switch.append(\"False\")\n",
    "    if \"True\" not in switch:\n",
    "        mainswitch = \"False\"\n",
    "        break\n",
    "    \n",
    "if mainswitch == \"True\":\n",
    "    print (\"Match\")\n",
    "else :\n",
    "    print (\"Not a match\")      \n"
   ]
  },
  {
   "cell_type": "markdown",
   "id": "ff56f9b0",
   "metadata": {},
   "source": [
    "6. Write a Python to find all duplicate characters in string?"
   ]
  },
  {
   "cell_type": "code",
   "execution_count": 14,
   "id": "3d9cad61",
   "metadata": {},
   "outputs": [
    {
     "name": "stdout",
     "output_type": "stream",
     "text": [
      "enter the string : hey there aftab\n",
      "{'e', 't', 'h', 'a', ' '}\n"
     ]
    }
   ],
   "source": [
    "string = input(\"enter the string : \")\n",
    "list1 = []\n",
    "list2 = []\n",
    "\n",
    "for i in range(len(string)):\n",
    "    list1.append(string[i])\n",
    "\n",
    "for i in range(len(list1)):\n",
    "    if string.count(list1[i])>1:\n",
    "        list2.append(list1[i])\n",
    "result = set(list2)\n",
    "print(result)\n"
   ]
  },
  {
   "cell_type": "markdown",
   "id": "6d6f28c2",
   "metadata": {},
   "source": [
    "7. Write a Python Program to check if a string contains any special character?"
   ]
  },
  {
   "cell_type": "code",
   "execution_count": 16,
   "id": "9c263420",
   "metadata": {},
   "outputs": [
    {
     "name": "stdout",
     "output_type": "stream",
     "text": [
      "Enter the string a : what's up!!!\n",
      "String what's up!!! has special charecter/s : [\"'\", '!', '!', '!']\n"
     ]
    }
   ],
   "source": [
    "import string\n",
    "\n",
    "str_char = string.punctuation\n",
    "speci_str = []\n",
    "\n",
    "str = input(\"Enter the string a : \").lower()\n",
    "\n",
    "for i in str:\n",
    "    if i in str_char:\n",
    "        speci_str.append(i)\n",
    "        \n",
    "if len(speci_str) > 0:\n",
    "    print(\"String {} has special charecter/s : {}\".format(str,speci_str))"
   ]
  }
 ],
 "metadata": {
  "kernelspec": {
   "display_name": "Python 3 (ipykernel)",
   "language": "python",
   "name": "python3"
  },
  "language_info": {
   "codemirror_mode": {
    "name": "ipython",
    "version": 3
   },
   "file_extension": ".py",
   "mimetype": "text/x-python",
   "name": "python",
   "nbconvert_exporter": "python",
   "pygments_lexer": "ipython3",
   "version": "3.9.6"
  }
 },
 "nbformat": 4,
 "nbformat_minor": 5
}
