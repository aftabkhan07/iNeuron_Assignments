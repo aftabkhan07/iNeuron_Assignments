{
 "cells": [
  {
   "cell_type": "markdown",
   "id": "e3ad98f3",
   "metadata": {},
   "source": [
    "# Programming_Assignment10"
   ]
  },
  {
   "cell_type": "markdown",
   "id": "1773c112",
   "metadata": {},
   "source": [
    "1. Write a Python program to find sum of elements in list?"
   ]
  },
  {
   "cell_type": "code",
   "execution_count": 2,
   "id": "154308b5",
   "metadata": {},
   "outputs": [
    {
     "name": "stdout",
     "output_type": "stream",
     "text": [
      "15\n"
     ]
    }
   ],
   "source": [
    "a = [1,2,3,4,5]\n",
    "b = sum(a)\n",
    "print(b)"
   ]
  },
  {
   "cell_type": "markdown",
   "id": "a3db7e5b",
   "metadata": {},
   "source": [
    "2. Write a Python program to Multiply all numbers in the list?"
   ]
  },
  {
   "cell_type": "code",
   "execution_count": 4,
   "id": "c201e7c6",
   "metadata": {},
   "outputs": [
    {
     "name": "stdout",
     "output_type": "stream",
     "text": [
      "120\n"
     ]
    }
   ],
   "source": [
    "a = [1,2,3,4,5]\n",
    "result = 1\n",
    "\n",
    "for x in a:\n",
    "    result = result * x\n",
    "    \n",
    "print(result)"
   ]
  },
  {
   "cell_type": "markdown",
   "id": "4ab08110",
   "metadata": {},
   "source": [
    "3. Write a Python program to find smallest number in a list?"
   ]
  },
  {
   "cell_type": "code",
   "execution_count": 12,
   "id": "bf229beb",
   "metadata": {},
   "outputs": [
    {
     "name": "stdout",
     "output_type": "stream",
     "text": [
      "1\n"
     ]
    }
   ],
   "source": [
    "a = [2,2,3,1,5]\n",
    "a.sort()\n",
    "print(a[0])\n"
   ]
  },
  {
   "cell_type": "markdown",
   "id": "2841c2c8",
   "metadata": {},
   "source": [
    "4. Write a Python program to find largest number in a list?"
   ]
  },
  {
   "cell_type": "code",
   "execution_count": 10,
   "id": "39f497fa",
   "metadata": {},
   "outputs": [
    {
     "name": "stdout",
     "output_type": "stream",
     "text": [
      "8\n"
     ]
    }
   ],
   "source": [
    "a = [2,2,8,3,1,5]\n",
    "a.sort()\n",
    "print(a[-1])"
   ]
  },
  {
   "cell_type": "markdown",
   "id": "ab8ab849",
   "metadata": {},
   "source": [
    "5. Write a Python program to find second largest number in a list?"
   ]
  },
  {
   "cell_type": "code",
   "execution_count": 13,
   "id": "4497dd42",
   "metadata": {},
   "outputs": [
    {
     "name": "stdout",
     "output_type": "stream",
     "text": [
      "5\n"
     ]
    }
   ],
   "source": [
    "a = [2,2,8,3,1,5]\n",
    "a.sort()\n",
    "print(a[-2])"
   ]
  },
  {
   "cell_type": "markdown",
   "id": "208842b8",
   "metadata": {},
   "source": [
    "6. Write a Python program to find N largest elements from a list?"
   ]
  },
  {
   "cell_type": "code",
   "execution_count": 15,
   "id": "bbf5c276",
   "metadata": {},
   "outputs": [
    {
     "name": "stdout",
     "output_type": "stream",
     "text": [
      "enter the nth largest number : 2\n",
      "5\n"
     ]
    }
   ],
   "source": [
    "n = int(input(\"enter the nth largest number : \"))\n",
    "a = [2,2,8,3,1,5]\n",
    "a.sort()\n",
    "print(a[-n])"
   ]
  },
  {
   "cell_type": "markdown",
   "id": "91e9eefb",
   "metadata": {},
   "source": [
    "7. Write a Python program to print even numbers in a list?"
   ]
  },
  {
   "cell_type": "code",
   "execution_count": 21,
   "id": "a0f4df14",
   "metadata": {},
   "outputs": [
    {
     "name": "stdout",
     "output_type": "stream",
     "text": [
      "[2, 2, 8]\n"
     ]
    }
   ],
   "source": [
    "a = [2,2,8,3,1,5]\n",
    "b=[]\n",
    "\n",
    "for i in a:\n",
    "    if i%2==0:\n",
    "        b.append(i)\n",
    "\n",
    "print(b)"
   ]
  },
  {
   "cell_type": "markdown",
   "id": "ff883fd6",
   "metadata": {},
   "source": [
    "8. Write a Python program to print odd numbers in a List?"
   ]
  },
  {
   "cell_type": "code",
   "execution_count": 22,
   "id": "f4f0dd6d",
   "metadata": {},
   "outputs": [
    {
     "name": "stdout",
     "output_type": "stream",
     "text": [
      "[3, 1, 5]\n"
     ]
    }
   ],
   "source": [
    "a = [2,2,8,3,1,5]\n",
    "b=[]\n",
    "\n",
    "for i in a:\n",
    "    if i%2!=0:\n",
    "        b.append(i)\n",
    "\n",
    "print(b)"
   ]
  },
  {
   "cell_type": "markdown",
   "id": "d6842f5f",
   "metadata": {},
   "source": [
    "9. Write a Python program to Remove empty List from List?"
   ]
  },
  {
   "cell_type": "code",
   "execution_count": 23,
   "id": "d1fe7210",
   "metadata": {},
   "outputs": [
    {
     "name": "stdout",
     "output_type": "stream",
     "text": [
      "[2, 8, 3, 5]\n"
     ]
    }
   ],
   "source": [
    "a = [2,[],8,3,[],5]\n",
    "b=[]\n",
    "\n",
    "for i in a:\n",
    "    if i!=[]:\n",
    "        b.append(i)\n",
    "\n",
    "print(b)"
   ]
  },
  {
   "cell_type": "markdown",
   "id": "3bc9f146",
   "metadata": {},
   "source": [
    "10. Write a Python program to Cloning or Copying a list?"
   ]
  },
  {
   "cell_type": "code",
   "execution_count": 25,
   "id": "bb3020fa",
   "metadata": {},
   "outputs": [
    {
     "name": "stdout",
     "output_type": "stream",
     "text": [
      "[2, 2, 8, 3, 1, 5]\n"
     ]
    }
   ],
   "source": [
    "a = [2,2,8,3,1,5]\n",
    "b=a.copy()\n",
    "\n",
    "print(b)"
   ]
  },
  {
   "cell_type": "markdown",
   "id": "3329f558",
   "metadata": {},
   "source": [
    "11. Write a Python program to Count occurrences of an element in a list?"
   ]
  },
  {
   "cell_type": "code",
   "execution_count": 26,
   "id": "9ed578e5",
   "metadata": {},
   "outputs": [
    {
     "name": "stdout",
     "output_type": "stream",
     "text": [
      "3\n"
     ]
    }
   ],
   "source": [
    "a = [2,2,8,3,2,5]\n",
    "\n",
    "print(a.count(2))"
   ]
  }
 ],
 "metadata": {
  "kernelspec": {
   "display_name": "Python 3 (ipykernel)",
   "language": "python",
   "name": "python3"
  },
  "language_info": {
   "codemirror_mode": {
    "name": "ipython",
    "version": 3
   },
   "file_extension": ".py",
   "mimetype": "text/x-python",
   "name": "python",
   "nbconvert_exporter": "python",
   "pygments_lexer": "ipython3",
   "version": "3.9.6"
  }
 },
 "nbformat": 4,
 "nbformat_minor": 5
}
