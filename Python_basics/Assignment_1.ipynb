{
  "nbformat": 4,
  "nbformat_minor": 0,
  "metadata": {
    "colab": {
      "provenance": []
    },
    "kernelspec": {
      "name": "python3",
      "display_name": "Python 3"
    },
    "language_info": {
      "name": "python"
    }
  },
  "cells": [
    {
      "cell_type": "markdown",
      "source": [
        "#Assignment01"
      ],
      "metadata": {
        "id": "eY46r6Fd_C5M"
      }
    },
    {
      "cell_type": "markdown",
      "source": [
        "1. In the below elements which of them are values or an expression? eg:- values can be integer or string and expressions will be mathematical operators.\n",
        "  *\n",
        "  'hello'\n",
        "  -87.8\n",
        "  -\n",
        "  /\n",
        "  +\n",
        "  6"
      ],
      "metadata": {
        "id": "4Qgkikel2aYW"
      }
    },
    {
      "cell_type": "markdown",
      "source": [
        "Soln:\n",
        "- *=== expression\n",
        "- 'hello' === value\n",
        "-87.8 === value\n",
        "- === expression\n",
        "- / === expression\n",
        "- +=== expression\n",
        "- \n",
        "6 === value"
      ],
      "metadata": {
        "id": "bAYLkNWV4ilB"
      }
    },
    {
      "cell_type": "markdown",
      "source": [
        "2. What is the difference between string and variable?"
      ],
      "metadata": {
        "id": "JiMlJsgQ3S_Y"
      }
    },
    {
      "cell_type": "markdown",
      "source": [
        "Soln:\n",
        "- Strings are words or numbers which comes inside inverted commas where as variable is used as a storage container to store strings. boolean, float etc"
      ],
      "metadata": {
        "id": "XQR4rqyU6qMR"
      }
    },
    {
      "cell_type": "markdown",
      "source": [
        "3. Describe three different data types."
      ],
      "metadata": {
        "id": "25-5bwNt7ibu"
      }
    },
    {
      "cell_type": "markdown",
      "source": [
        "Soln:\n",
        "  - float, boolean, int, string"
      ],
      "metadata": {
        "id": "ADkqvnjk7j1r"
      }
    },
    {
      "cell_type": "markdown",
      "source": [
        "4. What is an expression made up of? What do all expressions do?"
      ],
      "metadata": {
        "id": "Y1xHe0U171E1"
      }
    },
    {
      "cell_type": "markdown",
      "source": [
        "Soln:\n",
        "- An expression is made of +, =, / and all expressions make mathematical operations on the given operands"
      ],
      "metadata": {
        "id": "cHVHvUoa76GI"
      }
    },
    {
      "cell_type": "markdown",
      "source": [
        "5. This assignment statements, like spam = 10. What is the difference between an\n",
        "expression and a statement?"
      ],
      "metadata": {
        "id": "4uaG1C1E8xkb"
      }
    },
    {
      "cell_type": "markdown",
      "source": [
        "Soln:\n",
        "- A statement stated as above spam is stated to be 10 where as expression is uesed when u want to make changes or add multiply or divide multiple data "
      ],
      "metadata": {
        "id": "H82C_OvH89wo"
      }
    },
    {
      "cell_type": "markdown",
      "source": [
        "6. After running the following code, what does the variable bacon contain?\n",
        "bacon = 22\n",
        "bacon + 1"
      ],
      "metadata": {
        "id": "JDWXejib9wzL"
      }
    },
    {
      "cell_type": "markdown",
      "source": [
        "Soln:\n",
        "- 22"
      ],
      "metadata": {
        "id": "cwVH5oOy-PxG"
      }
    },
    {
      "cell_type": "markdown",
      "source": [
        "7. What should the values of the following two terms be?\n",
        "&#39;spam&#39; + &#39;spamspam&#39;\n",
        "&#39;spam&#39; * 3"
      ],
      "metadata": {
        "id": "ModH8es8-bRm"
      }
    },
    {
      "cell_type": "markdown",
      "source": [
        "Soln:\n",
        "- spamspamspam\n",
        "- spamspamspam"
      ],
      "metadata": {
        "id": "7QXJjqhu-dRn"
      }
    },
    {
      "cell_type": "markdown",
      "source": [
        "8. Why is eggs a valid variable name while 100 is invalid?\n"
      ],
      "metadata": {
        "id": "x8EseyE__pJS"
      }
    },
    {
      "cell_type": "markdown",
      "source": [
        "Soln:\n",
        "- Because variable name cant start with a number"
      ],
      "metadata": {
        "id": "du9GmcLM_tf4"
      }
    },
    {
      "cell_type": "markdown",
      "source": [
        "9. What three functions can be used to get the integer, floating-point number, or string\n",
        "version of a value?"
      ],
      "metadata": {
        "id": "5DL7EHTUAENJ"
      }
    },
    {
      "cell_type": "markdown",
      "source": [
        "Soln:\n",
        "- int() , float() , and str( )"
      ],
      "metadata": {
        "id": "_cuubnBXA6mY"
      }
    },
    {
      "cell_type": "markdown",
      "source": [
        "10. Why does this expression cause an error? How can you fix it?\n",
        "&#39;I have eaten &#39; + 99 + &#39; burritos.&#39;"
      ],
      "metadata": {
        "id": "kxSFPTFNAGzk"
      }
    },
    {
      "cell_type": "code",
      "source": [
        "'I have eaten ' + \"99\" + ' burritos.'"
      ],
      "metadata": {
        "colab": {
          "base_uri": "https://localhost:8080/",
          "height": 35
        },
        "id": "-HmqQKXbAe7J",
        "outputId": "71292806-e015-4ab9-90b1-f35ea70cefd5"
      },
      "execution_count": 8,
      "outputs": [
        {
          "output_type": "execute_result",
          "data": {
            "text/plain": [
              "'I have eaten 99 burritos.'"
            ],
            "application/vnd.google.colaboratory.intrinsic+json": {
              "type": "string"
            }
          },
          "metadata": {},
          "execution_count": 8
        }
      ]
    }
  ]
}