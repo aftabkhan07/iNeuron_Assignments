{
 "cells": [
  {
   "cell_type": "markdown",
   "id": "be8c0dd7",
   "metadata": {},
   "source": [
    "# Programming_Assignment12"
   ]
  },
  {
   "cell_type": "markdown",
   "id": "fca439fd",
   "metadata": {},
   "source": [
    "1. Write a Python program to Extract Unique values dictionary values?"
   ]
  },
  {
   "cell_type": "code",
   "execution_count": 1,
   "id": "9f888e93",
   "metadata": {},
   "outputs": [
    {
     "name": "stdout",
     "output_type": "stream",
     "text": [
      "unique values are: {64, 1, 66, 3, 0, 4, 7, 8, 45, 47, 17, 81, 21}\n"
     ]
    }
   ],
   "source": [
    "dict1 = {'a' : [3, 64, 17, 66],\n",
    "             'b' : [1, 21, 47, 45],\n",
    "             'c' : [0, 17, 7, 81],\n",
    "             'd' : [3, 3, 4,8]}\n",
    "\n",
    "un_val = set([ele for val in dict1.values() for ele in val])\n",
    "print(\"unique values are: {}\".format(un_val))"
   ]
  },
  {
   "cell_type": "markdown",
   "id": "4e819d9c",
   "metadata": {},
   "source": [
    "2. Write a Python program to find the sum of all items in a dictionary?"
   ]
  },
  {
   "cell_type": "code",
   "execution_count": 2,
   "id": "067545dd",
   "metadata": {},
   "outputs": [
    {
     "name": "stdout",
     "output_type": "stream",
     "text": [
      "151\n"
     ]
    }
   ],
   "source": [
    "dict2 = {'a' : 22,\n",
    "             'b' :  21,\n",
    "             'c' : 52,\n",
    "             'd' : 56}\n",
    "\n",
    "list1 = [int(i) for i in dict2.values()]\n",
    "result = sum(list1)\n",
    "\n",
    "print(result)"
   ]
  },
  {
   "cell_type": "markdown",
   "id": "3ae72bdd",
   "metadata": {},
   "source": [
    "3. Write a Python program to Merging two Dictionaries?"
   ]
  },
  {
   "cell_type": "code",
   "execution_count": 3,
   "id": "01725a5b",
   "metadata": {},
   "outputs": [
    {
     "name": "stdout",
     "output_type": "stream",
     "text": [
      "{'x': 2, 'y': 5, 'z': 6}\n"
     ]
    }
   ],
   "source": [
    "one = { 'x': 2, 'y': 3}\n",
    "two = { 'y': 5, 'z': 6}\n",
    "\n",
    "three = one.copy()\n",
    "three.update(two)\n",
    "print(three)"
   ]
  },
  {
   "cell_type": "markdown",
   "id": "56b1a360",
   "metadata": {},
   "source": [
    "4. Write a Python program to convert key-values list to flat dictionary?"
   ]
  },
  {
   "cell_type": "code",
   "execution_count": 4,
   "id": "328f1d37",
   "metadata": {},
   "outputs": [
    {
     "name": "stdout",
     "output_type": "stream",
     "text": [
      "The original dictionary is : {'month': [1, 2, 3], 'name': ['Jan', 'Feb', 'March']}\n",
      "Flattened dictionary : {1: 'Jan', 2: 'Feb', 3: 'March'}\n"
     ]
    }
   ],
   "source": [
    "test_dict = {'month' : [1, 2, 3],\n",
    "             'name' : ['Jan', 'Feb', 'March']}\n",
    "  \n",
    "\n",
    "print(\"The original dictionary is : \" + str(test_dict))\n",
    "\n",
    "# Using dict() + zip()\n",
    "res = dict(zip(test_dict['month'], test_dict['name']))\n",
    "\n",
    "print(\"Flattened dictionary : \" + str(res))"
   ]
  },
  {
   "cell_type": "markdown",
   "id": "efc28751",
   "metadata": {},
   "source": [
    "5. Write a Python program to insertion at the beginning in OrderedDict?"
   ]
  },
  {
   "cell_type": "code",
   "execution_count": 10,
   "id": "f9c2d4a8",
   "metadata": {},
   "outputs": [
    {
     "name": "stdout",
     "output_type": "stream",
     "text": [
      "{1: 'jan', 2: 'feb', 3: 'mar', 4: 'apr'}\n"
     ]
    }
   ],
   "source": [
    "dict1 = {2:\"feb\",3:\"mar\",4:\"apr\"}\n",
    "\n",
    "list2 = list(dict1.items())\n",
    "list2.insert(0,(1,\"jan\"))\n",
    "dict1 = dict(list2)\n",
    "\n",
    "print(dict1)\n"
   ]
  },
  {
   "cell_type": "markdown",
   "id": "11fa701a",
   "metadata": {},
   "source": [
    "6. Write a Python program to check order of character in string using OrderedDict()?"
   ]
  },
  {
   "cell_type": "code",
   "execution_count": 20,
   "id": "07adb50c",
   "metadata": {},
   "outputs": [
    {
     "name": "stdout",
     "output_type": "stream",
     "text": [
      "enter string : aftab\n",
      "Enter Pattern : ab\n",
      "OrderedDict([('a', None), ('f', None), ('t', None), ('b', None)])\n",
      "Pattern matched\n"
     ]
    }
   ],
   "source": [
    "from collections import OrderedDict \n",
    "  \n",
    "def checkOrderofString(str, pattern): \n",
    "      \n",
    "    # create empty OrderedDict \n",
    "    dict = OrderedDict.fromkeys(str) \n",
    "    print(dict)   \n",
    "    ptrlen = 0\n",
    "    for key,value in dict.items(): \n",
    "        \n",
    "        if (key == pattern[ptrlen]): \n",
    "            ptrlen = ptrlen + 1\n",
    "          \n",
    "        # check if we have traverse complete pattern string \n",
    "        if (ptrlen == (len(pattern))):            \n",
    "            return 'true'\n",
    "  \n",
    "    # if we come out from for loop that means order was mismatched \n",
    "    return 'false'\n",
    "  \n",
    "\n",
    "string = input(\"enter string : \")\n",
    "pattern = input(\"Enter Pattern : \")\n",
    "\n",
    "if checkOrderofString(string,pattern):\n",
    "    print(\"Pattern matched\")\n",
    "else:\n",
    "    print(\"Pattern not matched\")\n",
    "\n"
   ]
  },
  {
   "cell_type": "markdown",
   "id": "ed1c161f",
   "metadata": {},
   "source": [
    "7. Write a Python program to sort Python Dictionaries by Key or Value?"
   ]
  },
  {
   "cell_type": "code",
   "execution_count": 15,
   "id": "fde4c040",
   "metadata": {},
   "outputs": [
    {
     "name": "stdout",
     "output_type": "stream",
     "text": [
      "[4, 6, 7, 9]\n",
      "[(4, 2), (6, 9), (7, 8), (9, 5)]\n",
      "[2, 5, 8, 9]\n"
     ]
    }
   ],
   "source": [
    "dict= {4:5 ,7:8 ,4:3 ,6:9 ,9:5 ,4:2 }\n",
    "\n",
    "dict= {4:5 ,7:8 ,4:3 ,6:9 ,9:5 ,4:2 }\n",
    "#Print sorted list of keys\n",
    "print(sorted(dict.keys()))\n",
    "#Print sorted list of items\n",
    "print(sorted(dict.items()))\n",
    "#Print sorted list of values\n",
    "dic2 = {4:5 ,7:8 ,4:3 ,6:9 ,9:5 ,4:2 }\n",
    "print(sorted(dic2.values()))"
   ]
  },
  {
   "cell_type": "code",
   "execution_count": null,
   "id": "9d19bf89",
   "metadata": {},
   "outputs": [],
   "source": []
  }
 ],
 "metadata": {
  "kernelspec": {
   "display_name": "Python 3 (ipykernel)",
   "language": "python",
   "name": "python3"
  },
  "language_info": {
   "codemirror_mode": {
    "name": "ipython",
    "version": 3
   },
   "file_extension": ".py",
   "mimetype": "text/x-python",
   "name": "python",
   "nbconvert_exporter": "python",
   "pygments_lexer": "ipython3",
   "version": "3.9.6"
  }
 },
 "nbformat": 4,
 "nbformat_minor": 5
}
