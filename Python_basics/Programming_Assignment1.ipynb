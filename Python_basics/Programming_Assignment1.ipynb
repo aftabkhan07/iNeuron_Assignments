{
 "cells": [
  {
   "cell_type": "markdown",
   "id": "68c03542",
   "metadata": {},
   "source": [
    "# Programming_Assignment1\n"
   ]
  },
  {
   "cell_type": "markdown",
   "id": "a9771f23",
   "metadata": {},
   "source": [
    "1. Write a Python program to print &quot;Hello Python&quot;?"
   ]
  },
  {
   "cell_type": "code",
   "execution_count": 7,
   "id": "846de6fb",
   "metadata": {},
   "outputs": [
    {
     "name": "stdout",
     "output_type": "stream",
     "text": [
      "Hello Python\n"
     ]
    }
   ],
   "source": [
    "print(\"Hello Python\")"
   ]
  },
  {
   "cell_type": "markdown",
   "id": "d22dbdc8",
   "metadata": {},
   "source": [
    "2. Write a Python program to do arithmetical operations addition and division.?"
   ]
  },
  {
   "cell_type": "code",
   "execution_count": 2,
   "id": "643e8722",
   "metadata": {},
   "outputs": [
    {
     "name": "stdout",
     "output_type": "stream",
     "text": [
      "Please enter you input1 : 2\n",
      "Please enter you input2 : 2.2\n",
      "Please enter you operator : +\n",
      "4.2\n"
     ]
    }
   ],
   "source": [
    "a = float((input(\"Please enter you input1 : \")))\n",
    "b = float((input(\"Please enter you input2 : \")))\n",
    "c = str((input(\"Please enter you operator : \")))\n",
    "\n",
    "if c == \"+\":\n",
    "    print(a+b)\n",
    "elif c == \"/\":\n",
    "    print(a/b)\n",
    "else:\n",
    "    print(\"Invalid data\")\n",
    "    "
   ]
  },
  {
   "cell_type": "markdown",
   "id": "d4c5d4fa",
   "metadata": {},
   "source": [
    "3. Write a Python program to find the area of a triangle?"
   ]
  },
  {
   "cell_type": "code",
   "execution_count": 6,
   "id": "cceb7c98",
   "metadata": {},
   "outputs": [
    {
     "name": "stdout",
     "output_type": "stream",
     "text": [
      "Please enter you base : 2\n",
      "Please enter you height : 2\n",
      "2.0\n"
     ]
    }
   ],
   "source": [
    "base = float((input(\"Please enter you base : \")))\n",
    "height = float((input(\"Please enter you height : \")))\n",
    "A = (1/2 * base * height)\n",
    "print(A)"
   ]
  },
  {
   "cell_type": "markdown",
   "id": "c31b80bd",
   "metadata": {},
   "source": [
    "4. Write a Python program to swap two variables?"
   ]
  },
  {
   "cell_type": "code",
   "execution_count": 8,
   "id": "4845dcbc",
   "metadata": {},
   "outputs": [
    {
     "name": "stdout",
     "output_type": "stream",
     "text": [
      "Please enter you input1 : 1\n",
      "Please enter you input2 : 2\n",
      "First Variable Before swap  : 1.0 \n",
      " Second variable Before Swap  : 2.0\n",
      "After Swap : \n",
      " First Variabe : 2.0 \n",
      "  Second Variable : 1.0\n"
     ]
    }
   ],
   "source": [
    "a = float((input(\"Please enter you input1 : \")))\n",
    "b = float((input(\"Please enter you input2 : \")))\n",
    "\n",
    "print(f\"First Variable Before swap  : {a} \\n Second variable Before Swap  : {b}\")\n",
    "a , b = b , a\n",
    "\n",
    "print(f\"After Swap : \\n First Variabe : {a} \\n  Second Variable : {b}\")"
   ]
  },
  {
   "cell_type": "markdown",
   "id": "bf7022c9",
   "metadata": {},
   "source": [
    "5. Write a Python program to generate a random number?"
   ]
  },
  {
   "cell_type": "code",
   "execution_count": 9,
   "id": "9e43a193",
   "metadata": {},
   "outputs": [
    {
     "name": "stdout",
     "output_type": "stream",
     "text": [
      "4\n"
     ]
    }
   ],
   "source": [
    "import random\n",
    "print(random.randint(0,10))"
   ]
  }
 ],
 "metadata": {
  "kernelspec": {
   "display_name": "Python 3 (ipykernel)",
   "language": "python",
   "name": "python3"
  },
  "language_info": {
   "codemirror_mode": {
    "name": "ipython",
    "version": 3
   },
   "file_extension": ".py",
   "mimetype": "text/x-python",
   "name": "python",
   "nbconvert_exporter": "python",
   "pygments_lexer": "ipython3",
   "version": "3.9.6"
  }
 },
 "nbformat": 4,
 "nbformat_minor": 5
}
