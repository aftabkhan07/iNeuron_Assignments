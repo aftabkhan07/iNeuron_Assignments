{
 "cells": [
  {
   "cell_type": "markdown",
   "id": "1d966a04",
   "metadata": {},
   "source": [
    "# Programming_Assignment6"
   ]
  },
  {
   "cell_type": "markdown",
   "id": "e830ea4d",
   "metadata": {},
   "source": [
    "1. Write a Python Program to Display Fibonacci Sequence Using Recursion?"
   ]
  },
  {
   "cell_type": "code",
   "execution_count": 27,
   "id": "a97269ef",
   "metadata": {},
   "outputs": [
    {
     "name": "stdout",
     "output_type": "stream",
     "text": [
      "Enter a positive num : 6\n",
      "1 1 2 3 5 8 "
     ]
    }
   ],
   "source": [
    "def rec(i):\n",
    "    if i==0 or i==1:\n",
    "        return 1\n",
    "    else:\n",
    "        return rec(i-1)+rec(i-2)\n",
    "\n",
    "num = int(input(\"Enter a positive num : \"))\n",
    "    \n",
    "for j in range(num):\n",
    "    print(f\"{rec(j)} \", end=\"\")"
   ]
  },
  {
   "cell_type": "markdown",
   "id": "8ce91dee",
   "metadata": {},
   "source": [
    "2. Write a Python Program to Find Factorial of Number Using Recursion?"
   ]
  },
  {
   "cell_type": "code",
   "execution_count": 3,
   "id": "b2a627e5",
   "metadata": {},
   "outputs": [
    {
     "name": "stdout",
     "output_type": "stream",
     "text": [
      "Enter a positive num : 1\n"
     ]
    },
    {
     "data": {
      "text/plain": [
       "1"
      ]
     },
     "execution_count": 3,
     "metadata": {},
     "output_type": "execute_result"
    }
   ],
   "source": [
    "def rec(num):\n",
    "    if num==0 or num==1:\n",
    "        return 1\n",
    "    else:\n",
    "        return num*rec(num-1)\n",
    "rec(int(input(\"Enter a positive num : \")))"
   ]
  },
  {
   "cell_type": "markdown",
   "id": "7e0bfaa0",
   "metadata": {},
   "source": [
    "3. Write a Python Program to calculate your Body Mass Index?"
   ]
  },
  {
   "cell_type": "code",
   "execution_count": 12,
   "id": "ab045592",
   "metadata": {},
   "outputs": [
    {
     "name": "stdout",
     "output_type": "stream",
     "text": [
      "Enter your weight in kg: 60\n",
      "Enter your height in meter: 1.52\n",
      "25.97\n"
     ]
    }
   ],
   "source": [
    "weight = float(input(\"Enter your weight in kg: \"))\n",
    "height = float(input(\"Enter your height in meter: \"))\n",
    "\n",
    "BMI = weight/(height**2)\n",
    "print(\"{:.2f}\".format(BMI))\n",
    "\n",
    "\n"
   ]
  },
  {
   "cell_type": "markdown",
   "id": "6ae3c867",
   "metadata": {},
   "source": [
    "4. Write a Python Program to calculate the natural logarithm of any number?"
   ]
  },
  {
   "cell_type": "code",
   "execution_count": 17,
   "id": "b3b97e24",
   "metadata": {},
   "outputs": [
    {
     "name": "stdout",
     "output_type": "stream",
     "text": [
      "Enter a number : 6\n",
      "Log of 6 is 1.7918\n"
     ]
    }
   ],
   "source": [
    "import math\n",
    "x = int(input((\"Enter a number : \")))\n",
    "log = math.log(x)\n",
    "print(\"Log of {} is {:.4f}\".format(x, log))"
   ]
  },
  {
   "cell_type": "markdown",
   "id": "5da79a17",
   "metadata": {},
   "source": [
    "5. Write a Python Program for cube sum of first n natural numbers?"
   ]
  },
  {
   "cell_type": "code",
   "execution_count": 23,
   "id": "db200999",
   "metadata": {},
   "outputs": [
    {
     "name": "stdout",
     "output_type": "stream",
     "text": [
      "36\n"
     ]
    }
   ],
   "source": [
    "a = 3\n",
    "sum = 0\n",
    "\n",
    "for i in range(1,a+1):\n",
    "    sum=sum+i**3\n",
    "    \n",
    "print(sum)"
   ]
  }
 ],
 "metadata": {
  "kernelspec": {
   "display_name": "Python 3 (ipykernel)",
   "language": "python",
   "name": "python3"
  },
  "language_info": {
   "codemirror_mode": {
    "name": "ipython",
    "version": 3
   },
   "file_extension": ".py",
   "mimetype": "text/x-python",
   "name": "python",
   "nbconvert_exporter": "python",
   "pygments_lexer": "ipython3",
   "version": "3.9.6"
  }
 },
 "nbformat": 4,
 "nbformat_minor": 5
}
