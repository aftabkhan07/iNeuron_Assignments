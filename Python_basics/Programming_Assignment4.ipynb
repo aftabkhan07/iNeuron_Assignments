{
 "cells": [
  {
   "cell_type": "markdown",
   "id": "88b7e397",
   "metadata": {},
   "source": [
    "# Programming_Assignment4"
   ]
  },
  {
   "cell_type": "markdown",
   "id": "b8ab5543",
   "metadata": {},
   "source": [
    "1. Write a Python Program to Find the Factorial of a Number?"
   ]
  },
  {
   "cell_type": "code",
   "execution_count": 51,
   "id": "50c0c088",
   "metadata": {},
   "outputs": [
    {
     "name": "stdout",
     "output_type": "stream",
     "text": [
      "enter the num: 5\n",
      "120.0\n"
     ]
    }
   ],
   "source": [
    "a = int(input(\"enter the num: \"))\n",
    "\n",
    "if a in [0.0,1.0]:\n",
    "    a = 1\n",
    "else:\n",
    "    for i in range(1,a):\n",
    "        a = a * i\n",
    "print(float(a))\n",
    "        "
   ]
  },
  {
   "cell_type": "markdown",
   "id": "9d11bb58",
   "metadata": {},
   "source": [
    "2. Write a Python Program to Display the multiplication Table?"
   ]
  },
  {
   "cell_type": "code",
   "execution_count": 24,
   "id": "9412719f",
   "metadata": {},
   "outputs": [
    {
     "name": "stdout",
     "output_type": "stream",
     "text": [
      "enter the num which table u want: 99\n",
      "99 x 1 = 99\n",
      "99 x 2 = 198\n",
      "99 x 3 = 297\n",
      "99 x 4 = 396\n",
      "99 x 5 = 495\n",
      "99 x 6 = 594\n",
      "99 x 7 = 693\n",
      "99 x 8 = 792\n",
      "99 x 9 = 891\n",
      "99 x 10 = 990\n",
      "----------\n"
     ]
    }
   ],
   "source": [
    "a = int(input(\"enter the num which table u want: \"))\n",
    "\n",
    "for i in range(a,a+1):\n",
    "    for j in range(1,11):\n",
    "        print(f\"{i} x {j} = {i*j}\")\n",
    "    print(\"----------\")\n",
    "        "
   ]
  },
  {
   "cell_type": "markdown",
   "id": "67f110d4",
   "metadata": {},
   "source": [
    "3. Write a Python Program to Print the Fibonacci sequence?"
   ]
  },
  {
   "cell_type": "code",
   "execution_count": 7,
   "id": "36720a83",
   "metadata": {},
   "outputs": [
    {
     "name": "stdout",
     "output_type": "stream",
     "text": [
      "enter how many number of fib seq u want: 3\n",
      "[1, 1, 2]\n"
     ]
    }
   ],
   "source": [
    "a = int(input(\"enter how many number of fib seq u want: \"))\n",
    "d =[]\n",
    "\n",
    "for i in range(a):\n",
    "    if len(d) in (0,1):\n",
    "        d.append(1)\n",
    "    else:\n",
    "        b = d[-1] + d[-2]\n",
    "        d.append(b)\n",
    "        \n",
    "print(d)"
   ]
  },
  {
   "cell_type": "markdown",
   "id": "db7cd5c4",
   "metadata": {},
   "source": [
    "4. Write a Python Program to Check Armstrong Number?"
   ]
  },
  {
   "cell_type": "code",
   "execution_count": 79,
   "id": "a252e443",
   "metadata": {},
   "outputs": [
    {
     "name": "stdout",
     "output_type": "stream",
     "text": [
      "enter the number u want to check if its Armstrong: 153\n",
      "Armstrong Number\n"
     ]
    }
   ],
   "source": [
    "a = input(\"enter the number u want to check if its Armstrong: \")\n",
    "b = []\n",
    "c = \"\"\n",
    "for i in range(len(a)):\n",
    "    b.append(pow(int(a[i]),len(a)))\n",
    "\n",
    "if str(sum(b)) == a:\n",
    "    print(\"Armstrong Number\")\n",
    "else:\n",
    "    print(\"Not an Armstrong number\")\n",
    "    "
   ]
  },
  {
   "cell_type": "markdown",
   "id": "042e080e",
   "metadata": {},
   "source": [
    "5. Write a Python Program to Find Armstrong Number in an Interval?"
   ]
  },
  {
   "cell_type": "code",
   "execution_count": 88,
   "id": "fecd5428",
   "metadata": {},
   "outputs": [
    {
     "name": "stdout",
     "output_type": "stream",
     "text": [
      "enter the range start : 0\n",
      "enter the range stop : 1000\n",
      "[0, 1, 2, 3, 4, 5, 6, 7, 8, 9, 153, 370, 371, 407]\n"
     ]
    }
   ],
   "source": [
    "start = int(input(\"enter the range start : \"))\n",
    "stop = int(input(\"enter the range stop : \"))\n",
    "b = []\n",
    "c = []\n",
    "\n",
    "for i in range(start,stop):\n",
    "    b = []\n",
    "    for j in range(0,len(str(i))):\n",
    "        b.append(pow(int(str(i)[j]),len(str(i))))\n",
    "    if (sum(b) == i):\n",
    "        c.append(i)\n",
    "\n",
    "print(c)"
   ]
  },
  {
   "cell_type": "markdown",
   "id": "4cbceebd",
   "metadata": {},
   "source": [
    "6. Write a Python Program to Find the Sum of Natural Numbers?"
   ]
  },
  {
   "cell_type": "code",
   "execution_count": 94,
   "id": "4aeafa6b",
   "metadata": {},
   "outputs": [
    {
     "name": "stdout",
     "output_type": "stream",
     "text": [
      "enter the number : 3\n",
      "6\n"
     ]
    }
   ],
   "source": [
    "num = int(input(\"enter the number : \"))\n",
    "sum = 0\n",
    "\n",
    "for i in range(1,num+1):\n",
    "    sum+=i\n",
    "4+3+2+1\n",
    "print(sum)\n"
   ]
  }
 ],
 "metadata": {
  "kernelspec": {
   "display_name": "Python 3 (ipykernel)",
   "language": "python",
   "name": "python3"
  },
  "language_info": {
   "codemirror_mode": {
    "name": "ipython",
    "version": 3
   },
   "file_extension": ".py",
   "mimetype": "text/x-python",
   "name": "python",
   "nbconvert_exporter": "python",
   "pygments_lexer": "ipython3",
   "version": "3.9.6"
  }
 },
 "nbformat": 4,
 "nbformat_minor": 5
}
