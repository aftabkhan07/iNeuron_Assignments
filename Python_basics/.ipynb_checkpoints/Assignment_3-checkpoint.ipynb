{
 "cells": [
  {
   "cell_type": "markdown",
   "id": "77060c41",
   "metadata": {},
   "source": [
    "# Assignment_3"
   ]
  },
  {
   "cell_type": "markdown",
   "id": "3bc1c9d3",
   "metadata": {},
   "source": [
    "1. Why are functions advantageous to have in your programs?\n",
    "\n",
    "Soln:\n",
    "- By using functions we can reuse our code by just using the name and giving the paramerters or argumenrs"
   ]
  },
  {
   "cell_type": "markdown",
   "id": "a724d281",
   "metadata": {},
   "source": [
    "2. When does the code in a function run: when it&#39;s specified or when it&#39;s called?\n",
    "\n",
    "Soln:\n",
    "- the code in a function run when the fuction is called"
   ]
  },
  {
   "cell_type": "markdown",
   "id": "03940497",
   "metadata": {},
   "source": [
    "3. What statement creates a function?\n",
    "\n",
    "Soln:\n",
    "\n",
    "- The def statement defines a function.\n",
    "Eg .\n",
    "def my_func():\n",
    "pass"
   ]
  },
  {
   "cell_type": "markdown",
   "id": "22c44128",
   "metadata": {},
   "source": [
    "4. What is the difference between a function and a function call?\n",
    "\n",
    "Soln:\n",
    "- A function consists of the def statement and the code inside the def, a function call is what moves the program execution into the function i.e it call the function to execute and return a value\n"
   ]
  },
  {
   "cell_type": "markdown",
   "id": "ee1cae36",
   "metadata": {},
   "source": [
    "5. How many global scopes are there in a Python program? How many local scopes?\n",
    "\n",
    "Soln:\n",
    "- There's only one global Python scope per program execution. This scope remains in existence until the program terminates , and a local scope is created whenever a function is called."
   ]
  },
  {
   "cell_type": "markdown",
   "id": "15acef80",
   "metadata": {},
   "source": [
    "6. What happens to variables in a local scope when the function call returns? \n",
    "\n",
    "Soln:\n",
    "- When a function returns, the local scope is terminated."
   ]
  },
  {
   "cell_type": "markdown",
   "id": "220fde94",
   "metadata": {},
   "source": [
    "7. What is the concept of a return value? Is it possible to have a return value in an expression?\n",
    "\n",
    "Soln:\n",
    "- A return value is the value that is returned by the function calls. Like any value, a return value can be used as part of an expression."
   ]
  },
  {
   "cell_type": "markdown",
   "id": "56587ff6",
   "metadata": {},
   "source": [
    "8. If a function does not have a return statement, what is the return value of a call to that function?\n",
    "\n",
    "Soln:\n",
    "- It wont return anything"
   ]
  },
  {
   "cell_type": "markdown",
   "id": "edcb4415",
   "metadata": {},
   "source": [
    "9. How do you make a function variable refer to the global variable?\n",
    "\n",
    "Soln:\n",
    "- To make function variable as a global variable you can use the global keyword to declare which variables are global."
   ]
  },
  {
   "cell_type": "markdown",
   "id": "6a278787",
   "metadata": {},
   "source": [
    "10. What is the data type of None?\n",
    "\n",
    "Soln:\n",
    "- None has a datatype on nonetype"
   ]
  },
  {
   "cell_type": "markdown",
   "id": "ab07315e",
   "metadata": {},
   "source": [
    "11. What does the sentence import areallyourpetsnamederic do?\n",
    "\n",
    "Soln:\n",
    "- The import statement imports a module named areallyourpetsnamederic."
   ]
  },
  {
   "cell_type": "markdown",
   "id": "3986ed7a",
   "metadata": {},
   "source": [
    "12. If you had a bacon() feature in a spam module, what would you call it after importing spam?\n",
    "\n",
    "Soln:\n",
    "- spam.bacon()"
   ]
  },
  {
   "cell_type": "markdown",
   "id": "bfe5b345",
   "metadata": {},
   "source": [
    "13. What can you do to save a programme from crashing if it encounters an error?\n",
    "\n",
    "Soln:\n",
    "- We should use try except"
   ]
  },
  {
   "cell_type": "markdown",
   "id": "c9113f12",
   "metadata": {},
   "source": [
    "14. What is the purpose of the try clause? What is the purpose of the except clause?\n",
    "\n",
    "Soln:\n",
    "- try clause will try to execute code in the try block if the code works it will continue but if it crashes the except block will be executed"
   ]
  }
 ],
 "metadata": {
  "kernelspec": {
   "display_name": "Python 3 (ipykernel)",
   "language": "python",
   "name": "python3"
  },
  "language_info": {
   "codemirror_mode": {
    "name": "ipython",
    "version": 3
   },
   "file_extension": ".py",
   "mimetype": "text/x-python",
   "name": "python",
   "nbconvert_exporter": "python",
   "pygments_lexer": "ipython3",
   "version": "3.9.7"
  }
 },
 "nbformat": 4,
 "nbformat_minor": 5
}
