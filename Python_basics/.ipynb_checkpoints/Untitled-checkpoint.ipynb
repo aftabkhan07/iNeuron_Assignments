{
 "cells": [
  {
   "cell_type": "markdown",
   "id": "2fc31a44",
   "metadata": {},
   "source": [
    "# Programming_Assignment15"
   ]
  },
  {
   "cell_type": "markdown",
   "id": "037ddfdc",
   "metadata": {},
   "source": [
    "Q.Please write a program using generator to print the numbers which can be divisible by 5 and\n",
    "7 between 0 and n in comma separated form while n is input by console.\n",
    "\n",
    "Example:\n",
    "If the following n is given as input to the program:\n",
    "100\n",
    "Then, the output of the program should be:\n",
    "0,35,70"
   ]
  },
  {
   "cell_type": "code",
   "execution_count": 17,
   "id": "7dda82c2",
   "metadata": {},
   "outputs": [
    {
     "name": "stdout",
     "output_type": "stream",
     "text": [
      "please enter integer value : 100\n",
      "0,35,70\n"
     ]
    }
   ],
   "source": [
    "def length(n):\n",
    "    for i in range(0,n+1):\n",
    "        if i%5==0 and i%7==0:\n",
    "            yield i\n",
    "\n",
    "input1 = int(input(\"please enter integer value : \"))\n",
    "a = [str(i) for i in length(input1)]\n",
    "b = \",\".join(a)\n",
    "print(b)\n",
    "\n",
    "\n",
    "    "
   ]
  },
  {
   "cell_type": "markdown",
   "id": "be29195a",
   "metadata": {},
   "source": [
    "Q.Please write a program using generator to print the even numbers between 0 and n in comma\n",
    "separated form while n is input by console.\n",
    "\n",
    "Example:\n",
    "If the following n is given as input to the program:\n",
    "10\n",
    "Then, the output of the program should be:\n",
    "0,2,4,6,8,10"
   ]
  },
  {
   "cell_type": "code",
   "execution_count": 16,
   "id": "467ffadb",
   "metadata": {},
   "outputs": [
    {
     "name": "stdout",
     "output_type": "stream",
     "text": [
      "please enter integer value : 10\n",
      "0,2,4,6,8,10\n"
     ]
    }
   ],
   "source": [
    "def length(n):\n",
    "    for i in range(0,n+1):\n",
    "        if i%2==0 :\n",
    "            yield i\n",
    "\n",
    "input1 = int(input(\"please enter integer value : \"))\n",
    "a = [str(i) for i in length(input1)]\n",
    "b = \",\".join(a)\n",
    "print(b)"
   ]
  },
  {
   "cell_type": "markdown",
   "id": "5042a684",
   "metadata": {},
   "source": [
    "Q.The Fibonacci Sequence is computed based on the following formula:\n",
    "\n",
    "f(n)=0 if n=0\n",
    "\n",
    "f(n)=1 if n=1\n",
    "\n",
    "f(n)=f(n-1)+f(n-2) if n&gt;1\n",
    "\n",
    "Please write a program using list comprehension to print the Fibonacci Sequence in comma\n",
    "separated form with a given n input by console.\n",
    "\n",
    "Example:\n",
    "If the following n is given as input to the program:\n",
    "7\n",
    "\n",
    "Then, the output of the program should be:\n",
    "0,1,1,2,3,5,8,13"
   ]
  },
  {
   "cell_type": "code",
   "execution_count": 22,
   "id": "2a5dbd10",
   "metadata": {},
   "outputs": [
    {
     "name": "stdout",
     "output_type": "stream",
     "text": [
      "Enter a number : 7\n",
      "0,1,1,2,3,5,8,13\n"
     ]
    }
   ],
   "source": [
    "def fib(n):\n",
    "    if n == 0:\n",
    "        return 0\n",
    "    elif n == 1:\n",
    "        return 1\n",
    "    else:\n",
    "        return fib(n-1)+fib(n-2)\n",
    "\n",
    "n=int(input('Enter a number : '))\n",
    "values = [str(fib(x)) for x in range(0, n+1)] \n",
    "print(\",\".join(values))"
   ]
  },
  {
   "cell_type": "markdown",
   "id": "edc13191",
   "metadata": {},
   "source": [
    "Q.Assuming that we have some email addresses in the &quot;username@companyname.com&quot; format,\n",
    "please write program to print the user name of a given email address. Both user names and\n",
    "company names are composed of letters only.\n",
    "\n",
    "Example:\n",
    "\n",
    "If the following email address is given as input to the program:\n",
    "\n",
    "john@google.com\n",
    "\n",
    "Then, the output of the program should be:\n",
    "\n",
    "john"
   ]
  },
  {
   "cell_type": "code",
   "execution_count": 25,
   "id": "9c197f67",
   "metadata": {},
   "outputs": [
    {
     "name": "stdout",
     "output_type": "stream",
     "text": [
      "enter the string : john@google.com\n",
      "john\n"
     ]
    }
   ],
   "source": [
    "input1 = input(\"enter the string : \")\n",
    "\n",
    "list1 = input1.split(\"@\")\n",
    "\n",
    "print(list1[0])"
   ]
  },
  {
   "cell_type": "markdown",
   "id": "f2c6435d",
   "metadata": {},
   "source": [
    "Q.Define a class named Shape and its subclass Square. The Square class has an init function\n",
    "which takes a length as argument. Both classes have a area function which can print the area\n",
    "of the shape where Shape&#39;s area is 0 by default."
   ]
  },
  {
   "cell_type": "code",
   "execution_count": null,
   "id": "8f1c0b58",
   "metadata": {},
   "outputs": [],
   "source": []
  },
  {
   "cell_type": "code",
   "execution_count": null,
   "id": "283ec0c9",
   "metadata": {},
   "outputs": [],
   "source": []
  }
 ],
 "metadata": {
  "kernelspec": {
   "display_name": "Python 3 (ipykernel)",
   "language": "python",
   "name": "python3"
  },
  "language_info": {
   "codemirror_mode": {
    "name": "ipython",
    "version": 3
   },
   "file_extension": ".py",
   "mimetype": "text/x-python",
   "name": "python",
   "nbconvert_exporter": "python",
   "pygments_lexer": "ipython3",
   "version": "3.9.6"
  }
 },
 "nbformat": 4,
 "nbformat_minor": 5
}
