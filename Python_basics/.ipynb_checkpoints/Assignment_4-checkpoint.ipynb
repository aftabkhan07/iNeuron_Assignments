{
 "cells": [
  {
   "cell_type": "markdown",
   "id": "7f369764",
   "metadata": {},
   "source": [
    "# Assignment_4"
   ]
  },
  {
   "cell_type": "markdown",
   "id": "50871861",
   "metadata": {},
   "source": [
    "1. What exactly is []?\n",
    "\n",
    "Soln:\n",
    "- It is an empty list"
   ]
  },
  {
   "cell_type": "markdown",
   "id": "950bda76",
   "metadata": {},
   "source": [
    "2. In a list of values stored in a variable called spam, how would you assign the value &#39;hello&#39; as the\n",
    "third value? (Assume [2, 4, 6, 8, 10] are in spam.)\n",
    "\n",
    "Soln:"
   ]
  },
  {
   "cell_type": "code",
   "execution_count": 1,
   "id": "e64ae811",
   "metadata": {},
   "outputs": [
    {
     "data": {
      "text/plain": [
       "[2, 4, 'hello', 8, 10]"
      ]
     },
     "execution_count": 1,
     "metadata": {},
     "output_type": "execute_result"
    }
   ],
   "source": [
    "spam = [2, 4, 6, 8, 10]\n",
    "spam[2] = \"hello\"\n",
    "spam"
   ]
  },
  {
   "cell_type": "markdown",
   "id": "da3986f8",
   "metadata": {},
   "source": [
    "Let&#39;s pretend the spam includes the list [&#39;a&#39;, &#39;b&#39;, &#39;c&#39;, &#39;d&#39;] for the next three queries."
   ]
  },
  {
   "cell_type": "markdown",
   "id": "ee30a447",
   "metadata": {},
   "source": [
    "3. What is the value of spam[int(int(&#39;3&#39; * 2) / 11)]?\n",
    "\n",
    "Soln:\n",
    "- \"d\""
   ]
  },
  {
   "cell_type": "markdown",
   "id": "4cf29f14",
   "metadata": {},
   "source": [
    "4. What is the value of spam[-1]?\n",
    "\n",
    "Soln:\n",
    "- 'd'"
   ]
  },
  {
   "cell_type": "markdown",
   "id": "36a7b038",
   "metadata": {},
   "source": [
    "5. What is the value of spam[:2]?\n",
    "\n",
    "Soln:\n",
    "-  ['a', 'b']"
   ]
  },
  {
   "cell_type": "markdown",
   "id": "c331501f",
   "metadata": {},
   "source": [
    "Let&#39;s pretend bacon has the list [3.14, &#39;cat,&#39; 11, &#39;cat,&#39; True] for the next three questions."
   ]
  },
  {
   "cell_type": "markdown",
   "id": "df5567ee",
   "metadata": {},
   "source": [
    "6. What is the value of bacon.index(&#39;cat&#39;)?\n",
    "\n",
    "Soln:\n",
    "- 1"
   ]
  },
  {
   "cell_type": "markdown",
   "id": "714ebaf5",
   "metadata": {},
   "source": [
    "7. How does bacon.append(99) change the look of the list value in bacon?\n",
    "\n",
    "Soln:\n",
    "\n",
    "- [3.14, 'cat,' 11, 'cat,' True, 99]"
   ]
  },
  {
   "cell_type": "markdown",
   "id": "0949f93e",
   "metadata": {},
   "source": [
    "8. How does bacon.remove(&#39;cat&#39;) change the look of the list in bacon?\n",
    "\n",
    "Soln:\n",
    "- [3.14, 11 , 'cat,' True]"
   ]
  },
  {
   "cell_type": "markdown",
   "id": "f71308b6",
   "metadata": {},
   "source": [
    "9. What are the list concatenation and list replication operators?\n",
    "\n",
    "Soln:\n",
    "- list concat = + , list repli = * "
   ]
  },
  {
   "cell_type": "markdown",
   "id": "39ce9fa9",
   "metadata": {},
   "source": [
    "10. What is difference between the list methods append() and insert()?\n",
    "\n",
    "Soln:\n",
    "- append() will append the date at the end of the list, where as insert() will insert the data at the given index of the list  "
   ]
  },
  {
   "cell_type": "markdown",
   "id": "f99b9bd2",
   "metadata": {},
   "source": [
    "11. What are the two methods for removing items from a list?\n",
    "\n",
    "Soln:\n",
    "- pop(),remove()"
   ]
  },
  {
   "cell_type": "markdown",
   "id": "369e0d05",
   "metadata": {},
   "source": [
    "12. Describe how list values and string values are identical.\n",
    "\n",
    "Soln:\n",
    "- Both lists and strings can be passed to len()\n",
    "- Have indexes and slices\n",
    "- Can be used in for loops\n",
    "- Can be concatenated or replicated\n",
    "- Can be used with the in and not in operators"
   ]
  },
  {
   "cell_type": "markdown",
   "id": "8578195d",
   "metadata": {},
   "source": [
    "13. What&#39;s the difference between tuples and lists?\n",
    "\n",
    "Soln:\n",
    "- List are mutable, Tuples are immutable"
   ]
  },
  {
   "cell_type": "markdown",
   "id": "b16d41e1",
   "metadata": {},
   "source": [
    "14. How do you type a tuple value that only contains the integer 42?\n",
    "\n",
    "Soln:\n",
    "- (42,) #comma is imp as without it, it will be int"
   ]
  },
  {
   "cell_type": "markdown",
   "id": "d0a3030e",
   "metadata": {},
   "source": [
    "15. How do you get a list value&#39;s tuple form? How do you get a tuple value&#39;s list form?\n",
    "\n",
    "Soln:"
   ]
  },
  {
   "cell_type": "code",
   "execution_count": 16,
   "id": "56e8573d",
   "metadata": {},
   "outputs": [
    {
     "name": "stdout",
     "output_type": "stream",
     "text": [
      "<class 'tuple'>\n",
      "<class 'list'>\n"
     ]
    }
   ],
   "source": [
    "a = [1,2,3,4]\n",
    "b = tuple(a)\n",
    "print(type(b))\n",
    "\n",
    "c = (5,6,7,8)\n",
    "d = list(c)\n",
    "print(type(d))\n"
   ]
  },
  {
   "cell_type": "markdown",
   "id": "e841dc85",
   "metadata": {},
   "source": [
    "16. Variables that &quot;contain&quot; list values are not necessarily lists themselves. Instead, what do they\n",
    "contain?\n",
    "\n",
    "Soln:\n",
    "- They contain references to list values"
   ]
  },
  {
   "cell_type": "markdown",
   "id": "7c9091f4",
   "metadata": {},
   "source": [
    "17. How do you distinguish between copy.copy() and copy.deepcopy()?\n",
    "\n",
    "Soln:\n",
    "- The copy.copy() function will do a shallow copy of a list,\n",
    "- The copy.deepcopy() function will do a deep copy of a list. only copy.deepcopy() will duplicate any lists inside the list"
   ]
  }
 ],
 "metadata": {
  "kernelspec": {
   "display_name": "Python 3 (ipykernel)",
   "language": "python",
   "name": "python3"
  },
  "language_info": {
   "codemirror_mode": {
    "name": "ipython",
    "version": 3
   },
   "file_extension": ".py",
   "mimetype": "text/x-python",
   "name": "python",
   "nbconvert_exporter": "python",
   "pygments_lexer": "ipython3",
   "version": "3.9.7"
  }
 },
 "nbformat": 4,
 "nbformat_minor": 5
}
