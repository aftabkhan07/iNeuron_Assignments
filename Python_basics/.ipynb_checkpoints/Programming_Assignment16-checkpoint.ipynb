{
 "cells": [
  {
   "cell_type": "markdown",
   "id": "5f722b53",
   "metadata": {},
   "source": [
    "# Programming_Assignment16"
   ]
  },
  {
   "cell_type": "markdown",
   "id": "1073039d",
   "metadata": {},
   "source": [
    "Question1. Write a function that stutters a word as if someone is struggling to read it. The\n",
    "first two letters are repeated twice with an ellipsis ... and space after each, and then the\n",
    "word is pronounced with a question mark ?.\n",
    "\n",
    "Examples\n",
    "\n",
    "stutter(&quot;incredible&quot;) ➞ &quot;in... in... incredible?&quot;\n",
    "\n",
    "stutter(&quot;enthusiastic&quot;) ➞ &quot;en... en... enthusiastic?&quot;\n",
    "\n",
    "stutter(&quot;outstanding&quot;) ➞ &quot;ou... ou... outstanding?&quot;\n",
    "\n",
    "Hint :- Assume all input is in lower case and at least two characters long."
   ]
  },
  {
   "cell_type": "code",
   "execution_count": 3,
   "id": "965bc317",
   "metadata": {},
   "outputs": [
    {
     "name": "stdout",
     "output_type": "stream",
     "text": [
      "please enter the input : hello\n",
      "he.. he.. hello?\n"
     ]
    }
   ],
   "source": [
    "def stutter(word):\n",
    "    newstr = \"\"\n",
    "    newstr+=f\"{word[0:2]}.. {word[0:2]}.. {word}?\"\n",
    "    return newstr\n",
    "\n",
    "inp = input(\"please enter the input : \")\n",
    "print(stutter(inp))\n",
    "    "
   ]
  },
  {
   "cell_type": "markdown",
   "id": "b068c293",
   "metadata": {},
   "source": [
    "Question 2.Create a function that takes an angle in radians and returns the corresponding\n",
    "angle in degrees rounded to one decimal place.\n",
    "\n",
    "Examples\n",
    "\n",
    "radians_to_degrees(1) ➞ 57.3\n",
    "\n",
    "radians_to_degrees(20) ➞ 1145.9\n",
    "\n",
    "radians_to_degrees(50) ➞ 2864.8"
   ]
  },
  {
   "cell_type": "code",
   "execution_count": 10,
   "id": "c867e998",
   "metadata": {},
   "outputs": [
    {
     "name": "stdout",
     "output_type": "stream",
     "text": [
      "please enter the input : 20\n",
      "1145.9\n"
     ]
    }
   ],
   "source": [
    "def radians_to_degrees(radian):\n",
    "    degree = float(radian*57.2957795131)\n",
    "    return degree\n",
    "inp = int(input(\"please enter the input : \"))\n",
    "print(\"{:.1f}\".format(radians_to_degrees(inp)))\n"
   ]
  },
  {
   "cell_type": "markdown",
   "id": "484f3ec9",
   "metadata": {},
   "source": [
    "Question 3. In this challenge, establish if a given integer num is a Curzon number. If 1 plus\n",
    "2 elevated to num is exactly divisible by 1 plus 2 multiplied by num, then num is a Curzon\n",
    "number.\n",
    "\n",
    "Given a non-negative integer num, implement a function that returns True if num is a Curzon\n",
    "number, or False otherwise.\n",
    "\n",
    "Examples\n",
    "is_curzon(5) ➞ True\n",
    "#2 ** 5 + 1 = 33\n",
    "#2 * 5 + 1 = 11\n",
    "#33 is a multiple of 11\n",
    "\n",
    "is_curzon(10) ➞ False\n",
    "#2 ** 10 + 1 = 1025\n",
    "#2 * 10 + 1 = 21\n",
    "#1025 is not a multiple of 21\n",
    "\n",
    "is_curzon(14) ➞ True\n",
    "#2 ** 14 + 1 = 16385\n",
    "#2 * 14 + 1 = 29\n",
    "#16385 is a multiple of 29"
   ]
  },
  {
   "cell_type": "code",
   "execution_count": 15,
   "id": "41107487",
   "metadata": {},
   "outputs": [
    {
     "data": {
      "text/plain": [
       "'16385 is a multiple of 29'"
      ]
     },
     "execution_count": 15,
     "metadata": {},
     "output_type": "execute_result"
    }
   ],
   "source": [
    "def is_curzon(num):\n",
    "    ans1 = 2**num+1\n",
    "    ans2 = 2*num+1\n",
    "    if ans1%ans2 == 0:\n",
    "        return (f\"{ans1} is a multiple of {ans2}\")\n",
    "    else:\n",
    "        return (f\"{ans1} is not a multiple of {ans2}\")\n",
    "    \n",
    "is_curzon(14)\n"
   ]
  },
  {
   "cell_type": "markdown",
   "id": "735e3a91",
   "metadata": {},
   "source": [
    "Question 4.Given the side length x find the area of a hexagon.\n",
    "\n",
    "Examples\n",
    "\n",
    "area_of_hexagon(1) ➞ 2.6\n",
    "\n",
    "area_of_hexagon(2) ➞ 10.4\n",
    "\n",
    "area_of_hexagon(3) ➞ 23.4"
   ]
  },
  {
   "cell_type": "code",
   "execution_count": 26,
   "id": "53d75bc8",
   "metadata": {},
   "outputs": [
    {
     "data": {
      "text/plain": [
       "'10.4'"
      ]
     },
     "execution_count": 26,
     "metadata": {},
     "output_type": "execute_result"
    }
   ],
   "source": [
    "import math\n",
    "def area_of_hexagon(side):\n",
    "    ans = float((3*math.sqrt(3)*(side**2))/2)\n",
    "    return (\"{:.1f}\".format(ans))\n",
    "\n",
    "area_of_hexagon(2)"
   ]
  },
  {
   "cell_type": "markdown",
   "id": "8681936f",
   "metadata": {},
   "source": [
    "Question 5. Create a function that returns a base-2 (binary) representation of a base-10\n",
    "(decimal) string number. To convert is simple: ((2) means base-2 and (10) means base-10)\n",
    "010101001(2) = 1 + 8 + 32 + 128.\n",
    "Going from right to left, the value of the most right bit is 1, now from that every bit to the left\n",
    "will be x2 the value, value of an 8 bit binary numbers are (256, 128, 64, 32, 16, 8, 4, 2, 1).\n",
    "\n",
    "Examples\n",
    "\n",
    "binary(1) ➞ &quot;1&quot;\n",
    "\n",
    "- 1 * 1 = 1\n",
    "\n",
    "binary(5) ➞ &quot;101&quot;\n",
    "\n",
    "- 1 * 1 + 1 * 4 = 5\n",
    "\n",
    "binary(10) ➞ &quot;1010&quot;\n",
    "\n",
    "- 1 * 2 + 1 * 8 = 10"
   ]
  },
  {
   "cell_type": "code",
   "execution_count": 28,
   "id": "8983ef06",
   "metadata": {},
   "outputs": [
    {
     "name": "stdout",
     "output_type": "stream",
     "text": [
      "0\n",
      "1\n",
      "10\n",
      "11\n",
      "100\n",
      "101\n",
      "110\n",
      "111\n",
      "1000\n",
      "1001\n",
      "1010\n",
      "1011\n",
      "1100\n",
      "1101\n",
      "1110\n",
      "1111\n",
      "10000\n",
      "10001\n",
      "10010\n",
      "10011\n",
      "10100\n",
      "10101\n",
      "10110\n",
      "10111\n",
      "11000\n",
      "11001\n",
      "11010\n",
      "11011\n",
      "11100\n",
      "11101\n",
      "11110\n",
      "11111\n",
      "100000\n",
      "100001\n",
      "100010\n",
      "100011\n",
      "100100\n",
      "100101\n",
      "100110\n",
      "100111\n",
      "101000\n",
      "101001\n",
      "101010\n",
      "101011\n",
      "101100\n",
      "101101\n",
      "101110\n",
      "101111\n",
      "110000\n",
      "110001\n"
     ]
    }
   ],
   "source": [
    "def decimalToBinary(n):\n",
    "    return bin(n).replace(\"0b\",\"\")\n",
    "   \n",
    "for i in range(0,50):\n",
    "    print(decimalToBinary(i))"
   ]
  }
 ],
 "metadata": {
  "kernelspec": {
   "display_name": "Python 3 (ipykernel)",
   "language": "python",
   "name": "python3"
  },
  "language_info": {
   "codemirror_mode": {
    "name": "ipython",
    "version": 3
   },
   "file_extension": ".py",
   "mimetype": "text/x-python",
   "name": "python",
   "nbconvert_exporter": "python",
   "pygments_lexer": "ipython3",
   "version": "3.9.7"
  }
 },
 "nbformat": 4,
 "nbformat_minor": 5
}
