{
 "cells": [
  {
   "cell_type": "markdown",
   "id": "a5bdc63e",
   "metadata": {},
   "source": [
    "# Programming_Assignment13"
   ]
  },
  {
   "cell_type": "markdown",
   "id": "95960ee4",
   "metadata": {},
   "source": [
    "Write a program that calculates and prints the value according to the given formula:\n",
    "\n",
    "Q = Square root of [(2 * C * D)/H]\n",
    "\n",
    "Following are the fixed values of C and H:\n",
    "C is 50. H is 30.\n",
    "D is the variable whose values should be input to your program in a comma-separated\n",
    "sequence."
   ]
  },
  {
   "cell_type": "code",
   "execution_count": 1,
   "id": "8e0e1dcf",
   "metadata": {},
   "outputs": [
    {
     "name": "stdout",
     "output_type": "stream",
     "text": [
      "Provide D in with comma separated: 12,13,53\n",
      "6,7,13\n"
     ]
    }
   ],
   "source": [
    "import math\n",
    "\n",
    "values = input(\"Provide D in with comma separated: \")\n",
    "values = values.split(',')\n",
    "\n",
    "final = []\n",
    "\n",
    "for D in values:\n",
    "    A = round(math.sqrt(2 * 50 * int(D) / 30))\n",
    "    final.append(str(A))\n",
    "    \n",
    "print(','.join(final))\n",
    "     "
   ]
  },
  {
   "cell_type": "markdown",
   "id": "03e7f8f6",
   "metadata": {},
   "source": [
    "Q. Write a program which takes 2 digits, X,Y as input and generates a 2-dimensional array.\n",
    "\n",
    "Note: i=0,1.., X-1; j=0,1,¡Y-1.\n",
    "Example\n",
    "Suppose the following inputs are given to the program:\n",
    "3,5\n",
    "Then, the output of the program should be:\n",
    "[[0, 0, 0, 0, 0], [0, 1, 2, 3, 4], [0, 2, 4, 6, 8]]"
   ]
  },
  {
   "cell_type": "code",
   "execution_count": 3,
   "id": "cb88fe72",
   "metadata": {},
   "outputs": [
    {
     "name": "stdout",
     "output_type": "stream",
     "text": [
      "Enter x : 3\n",
      "Enter y : 5\n"
     ]
    },
    {
     "data": {
      "text/plain": [
       "[[0, 0, 0, 0, 0], [0, 1, 2, 3, 4], [0, 2, 4, 6, 8]]"
      ]
     },
     "execution_count": 3,
     "metadata": {},
     "output_type": "execute_result"
    }
   ],
   "source": [
    "def ABC(n,m):\n",
    "    \n",
    "    A=[]             \n",
    "    for i in range(n):\n",
    "        row =[]\n",
    "        for j in range(m):\n",
    "            row.append(i*j)\n",
    "        A.append(row)\n",
    "    return(A)\n",
    "\n",
    "x = int(input(\"Enter x : \"))\n",
    "y = int(input(\"Enter y : \"))\n",
    "ABC(x,y)\n"
   ]
  },
  {
   "cell_type": "markdown",
   "id": "15c98749",
   "metadata": {},
   "source": [
    "Q. Write a program that accepts a comma separated sequence of words as input and prints the\n",
    "\n",
    "words in a comma-separated sequence after sorting them alphabetically. Suppose the following input is supplied to the program: without,hello,bag,world Then, the output should be: bag,hello,without,world"
   ]
  },
  {
   "cell_type": "code",
   "execution_count": 4,
   "id": "d06afc2f",
   "metadata": {},
   "outputs": [
    {
     "name": "stdout",
     "output_type": "stream",
     "text": [
      "Enter comma seperated words without,hello,bag,world\n",
      "bag,hello,without,world\n"
     ]
    }
   ],
   "source": [
    "words=[x for x in input('Enter comma seperated words ').split(',')]\n",
    "words.sort()    \n",
    "print(','.join(words))"
   ]
  },
  {
   "cell_type": "markdown",
   "id": "c8f517a6",
   "metadata": {},
   "source": [
    "Q. Write a program that accepts a sequence of whitespace separated words as input and prints\n",
    "\n",
    "the words after removing all duplicate words and sorting them alphanumerically. Suppose the following input is supplied to the program: hello world and practice makes perfect and hello world again Then, the output should be: again and hello makes perfect practice world"
   ]
  },
  {
   "cell_type": "code",
   "execution_count": 11,
   "id": "dd04cfcd",
   "metadata": {},
   "outputs": [
    {
     "name": "stdout",
     "output_type": "stream",
     "text": [
      "Enter space seperated words hello world and practice makes perfect and hello world again\n",
      "again and hello makes perfect practice world\n"
     ]
    }
   ],
   "source": [
    "words=[x for x in input('Enter space seperated words ').split(' ')]\n",
    "setwords = set(words)\n",
    "newwords = list(setwords)\n",
    "newwords.sort()\n",
    "print(' '.join(newwords))\n",
    "\n"
   ]
  },
  {
   "cell_type": "markdown",
   "id": "1950d3c3",
   "metadata": {},
   "source": [
    "Q.Write a program that accepts a sentence and calculate the number of letters and digits.\n",
    "\n",
    "Suppose the following input is supplied to the program: hello world! 123 Then, the output should be: LETTERS 10 DIGITS 3"
   ]
  },
  {
   "cell_type": "code",
   "execution_count": 16,
   "id": "1ae28fc9",
   "metadata": {},
   "outputs": [
    {
     "name": "stdout",
     "output_type": "stream",
     "text": [
      "enter the sentence : hello world! 123 Then, the output should be: LETTERS 10 DIGITS 3\n",
      "The number of letters : 44\n",
      "The number of digits : 6\n"
     ]
    }
   ],
   "source": [
    "sentence = input(\"enter the sentence : \")\n",
    "\n",
    "char = []\n",
    "num = []\n",
    "\n",
    "for j in sentence:\n",
    "    for i in j:\n",
    "        if i.isalnum() :\n",
    "            if i.isdigit():\n",
    "                num.append(i)\n",
    "            else:\n",
    "                char.append(i)\n",
    "print(f\"The number of letters : {len(char)}\")\n",
    "print(f\"The number of digits : {len(num)}\")\n"
   ]
  },
  {
   "cell_type": "markdown",
   "id": "44e29c2c",
   "metadata": {},
   "source": [
    "A website requires the users to input username and password to register. Write a program to\n",
    "check the validity of password input by users.\n",
    "Following are the criteria for checking the password:\n",
    "1. At least 1 letter between [a-z]\n",
    "2. At least 1 number between [0-9]\n",
    "1. At least 1 letter between [A-Z]\n",
    "3. At least 1 character from [$#@]\n",
    "4. Minimum length of transaction password: 6\n",
    "5. Maximum length of transaction password: 12\n",
    "Your program should accept a sequence of comma separated passwords and will check them\n",
    "according to the above criteria. Passwords that match the criteria are to be printed, each\n",
    "separated by a comma.\n",
    "\n",
    "Example\n",
    "If the following passwords are given as input to the program:\n",
    "ABd1234@1,a F1#,2w3E*,2We3345\n",
    "Then, the output of the program should be:\n",
    "ABd1234@1"
   ]
  },
  {
   "cell_type": "code",
   "execution_count": 9,
   "id": "3f72d07a",
   "metadata": {},
   "outputs": [
    {
     "name": "stdout",
     "output_type": "stream",
     "text": [
      "enter the passwords with comma : ABd1234@1,a F1#,2w3E*,2We3345\n",
      "['ABd1234@1']\n"
     ]
    }
   ],
   "source": [
    "a = input(\"enter the passwords with comma : \")\n",
    "special_characters = \"\"\"!@#$%^&*()-+?_=<>\"\"\"\n",
    "ok = []\n",
    "\n",
    "passwords = a.split(\",\")\n",
    "\n",
    "for password in passwords:\n",
    "    switch = False\n",
    "    if any(c in special_characters for c in password):\n",
    "        if any(c.isupper() for c in password):\n",
    "            if any(c.isdigit() for c in password):\n",
    "                if any(c.islower() for c in password):\n",
    "                    if 6<len(password)<12:\n",
    "                        ok.append(password)\n",
    "\n",
    "print(ok)\n"
   ]
  },
  {
   "cell_type": "code",
   "execution_count": null,
   "id": "dda3a8d1",
   "metadata": {},
   "outputs": [],
   "source": []
  }
 ],
 "metadata": {
  "kernelspec": {
   "display_name": "Python 3 (ipykernel)",
   "language": "python",
   "name": "python3"
  },
  "language_info": {
   "codemirror_mode": {
    "name": "ipython",
    "version": 3
   },
   "file_extension": ".py",
   "mimetype": "text/x-python",
   "name": "python",
   "nbconvert_exporter": "python",
   "pygments_lexer": "ipython3",
   "version": "3.9.6"
  }
 },
 "nbformat": 4,
 "nbformat_minor": 5
}
