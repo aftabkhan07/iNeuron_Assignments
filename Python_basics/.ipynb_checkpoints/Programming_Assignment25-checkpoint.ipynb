{
 "cells": [
  {
   "cell_type": "markdown",
   "id": "070b1606",
   "metadata": {},
   "source": [
    "# Programming_Assignment25"
   ]
  },
  {
   "cell_type": "markdown",
   "id": "eca12fa8",
   "metadata": {},
   "source": [
    "Question1\n",
    "\n",
    "Create a function that takes three integer arguments (a, b, c) and returns the amount of\n",
    "\n",
    "integers which are of equal value.\n",
    "\n",
    "Examples\n",
    "\n",
    "equal(3, 4, 3) ➞ 2\n",
    "\n",
    "equal(1, 1, 1) ➞ 3\n",
    "\n",
    "equal(3, 4, 1) ➞ 0"
   ]
  },
  {
   "cell_type": "code",
   "execution_count": 18,
   "id": "c5b63d61",
   "metadata": {},
   "outputs": [
    {
     "data": {
      "text/plain": [
       "3"
      ]
     },
     "execution_count": 18,
     "metadata": {},
     "output_type": "execute_result"
    }
   ],
   "source": [
    "def equal(a,b,c):\n",
    "    list1 = [a,b,c]\n",
    "    counts = []\n",
    "    count = 0\n",
    "    for i in list1:\n",
    "        counts.append(count)\n",
    "        count = 0\n",
    "        for j in list1:\n",
    "            if i == j:\n",
    "                count += 1\n",
    "    return max(counts) if max(counts)>1 else 0\n",
    "equal(1, 1, 1)"
   ]
  },
  {
   "cell_type": "markdown",
   "id": "daefb737",
   "metadata": {},
   "source": [
    "Question2 Write a function that converts a dictionary into a list of keys-values tuples.\n",
    "\n",
    "Examples\n",
    "\n",
    "dict_to_list({\n",
    "\n",
    "&quot;D&quot;: 1,\n",
    "\n",
    "&quot;B&quot;: 2,\n",
    "\n",
    "&quot;C&quot;: 3\n",
    "\n",
    "}) ➞ [(&quot;B&quot;, 2), (&quot;C&quot;, 3), (&quot;D&quot;, 1)]\n",
    "\n",
    "dict_to_list({\n",
    "\n",
    "&quot;likes&quot;: 2,\n",
    "\n",
    "&quot;dislikes&quot;: 3,\n",
    "\n",
    "&quot;followers&quot;: 10\n",
    "\n",
    "}) ➞ [(&quot;dislikes&quot;, 3), (&quot;followers&quot;, 10), (&quot;likes&quot;, 2)]"
   ]
  },
  {
   "cell_type": "code",
   "execution_count": 21,
   "id": "f70f0870",
   "metadata": {},
   "outputs": [
    {
     "data": {
      "text/plain": [
       "[('D', 1), ('B', 2), ('C', 3)]"
      ]
     },
     "execution_count": 21,
     "metadata": {},
     "output_type": "execute_result"
    }
   ],
   "source": [
    "def dict_to_list(a):\n",
    "    return list(a.items())\n",
    "\n",
    "dict_to_list({\"D\": 1,\"B\": 2,\"C\": 3})"
   ]
  },
  {
   "cell_type": "markdown",
   "id": "8c954173",
   "metadata": {},
   "source": [
    "Question3 Write a function that creates a dictionary with each (key, value) pair being the (lower case,\n",
    "upper case) versions of a letter, respectively.\n",
    "\n",
    "Examples\n",
    "\n",
    "mapping([&quot;p&quot;, &quot;s&quot;]) ➞ { &quot;p&quot;: &quot;P&quot;, &quot;s&quot;: &quot;S&quot; }\n",
    "\n",
    "mapping([&quot;a&quot;, &quot;b&quot;, &quot;c&quot;]) ➞ { &quot;a&quot;: &quot;A&quot;, &quot;b&quot;: &quot;B&quot;, &quot;c&quot;: &quot;C&quot; }\n",
    "\n",
    "mapping([&quot;a&quot;, &quot;v&quot;, &quot;y&quot;, &quot;z&quot;]) ➞ { &quot;a&quot;: &quot;A&quot;, &quot;v&quot;: &quot;V&quot;, &quot;y&quot;: &quot;Y&quot;, &quot;z&quot;: &quot;Z&quot; }"
   ]
  },
  {
   "cell_type": "code",
   "execution_count": 23,
   "id": "3b9e377d",
   "metadata": {},
   "outputs": [
    {
     "data": {
      "text/plain": [
       "{'a': 'A', 'v': 'V', 'y': 'Y', 'z': 'Z'}"
      ]
     },
     "execution_count": 23,
     "metadata": {},
     "output_type": "execute_result"
    }
   ],
   "source": [
    "def mapping(a):\n",
    "    newdict = {}\n",
    "    for i in a:\n",
    "        newdict[i]= i.upper()\n",
    "    return newdict\n",
    "mapping([\"a\", \"v\", \"y\", \"z\"])"
   ]
  },
  {
   "cell_type": "markdown",
   "id": "c14fde06",
   "metadata": {},
   "source": [
    "Question4 Write a function, that replaces all vowels in a string with a specified vowel.\n",
    "\n",
    "Examples\n",
    "\n",
    "vow_replace(&quot;apples and bananas&quot;, &quot;u&quot;) ➞ &quot;upplus und bununus&quot;\n",
    "\n",
    "vow_replace(&quot;cheese casserole&quot;, &quot;o&quot;) ➞ &quot;chooso cossorolo&quot;\n",
    "\n",
    "vow_replace(&quot;stuffed jalapeno poppers&quot;, &quot;e&quot;) ➞ &quot;steffed jelepene peppers&quot;"
   ]
  },
  {
   "cell_type": "code",
   "execution_count": 34,
   "id": "63cc955a",
   "metadata": {},
   "outputs": [
    {
     "name": "stdout",
     "output_type": "stream",
     "text": [
      "upples und bununus\n"
     ]
    }
   ],
   "source": [
    "def vow_replace(string, bet):\n",
    "    newstr = \"\"\n",
    "    for i in string:\n",
    "        if i in [\"a\",\"i\",\"o\",\"u\"]:\n",
    "            newstr+=bet\n",
    "        else:\n",
    "            newstr+=i\n",
    "    print(newstr) \n",
    "\n",
    "vow_replace(\"apples and bananas\", \"u\")\n"
   ]
  },
  {
   "cell_type": "markdown",
   "id": "0bef22b7",
   "metadata": {},
   "source": [
    "Question5 Create a function that takes a string as input and capitalizes a letter if its ASCII code is even\n",
    "and returns its lower case version if its ASCII code is odd.\n",
    "\n",
    "Examples\n",
    "\n",
    "ascii_capitalize(&quot;to be or not to be!&quot;) ➞ &quot;To Be oR NoT To Be!&quot;\n",
    "\n",
    "ascii_capitalize(&quot;THE LITTLE MERMAID&quot;) ➞ &quot;THe LiTTLe meRmaiD&quot;\n",
    "\n",
    "ascii_capitalize(&quot;Oh what a beautiful morning.&quot;) ➞ &quot;oH wHaT a BeauTiFuL\n",
    "moRNiNg.&quot;"
   ]
  },
  {
   "cell_type": "code",
   "execution_count": 47,
   "id": "cacbbbe6",
   "metadata": {},
   "outputs": [
    {
     "data": {
      "text/plain": [
       "'THe LiTTLe meRmaiD'"
      ]
     },
     "execution_count": 47,
     "metadata": {},
     "output_type": "execute_result"
    }
   ],
   "source": [
    "def ascii_capitalize(string):\n",
    "    newstr = \"\"\n",
    "    for i in string:\n",
    "        if ord(i)%2!=0:\n",
    "            newstr+=i.lower()\n",
    "        else:\n",
    "            newstr+=i.upper()\n",
    "    return newstr\n",
    "\n",
    "ascii_capitalize(\"THE LITTLE MERMAID\")"
   ]
  },
  {
   "cell_type": "code",
   "execution_count": null,
   "id": "fd2cd384",
   "metadata": {},
   "outputs": [],
   "source": []
  }
 ],
 "metadata": {
  "kernelspec": {
   "display_name": "Python 3 (ipykernel)",
   "language": "python",
   "name": "python3"
  },
  "language_info": {
   "codemirror_mode": {
    "name": "ipython",
    "version": 3
   },
   "file_extension": ".py",
   "mimetype": "text/x-python",
   "name": "python",
   "nbconvert_exporter": "python",
   "pygments_lexer": "ipython3",
   "version": "3.9.6"
  }
 },
 "nbformat": 4,
 "nbformat_minor": 5
}
