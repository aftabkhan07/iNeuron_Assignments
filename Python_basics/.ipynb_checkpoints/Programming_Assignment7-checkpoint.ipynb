{
 "cells": [
  {
   "cell_type": "markdown",
   "id": "8bf10f4a",
   "metadata": {},
   "source": [
    "# Programming_Assignment7"
   ]
  },
  {
   "cell_type": "markdown",
   "id": "f1802be6",
   "metadata": {},
   "source": [
    "1. Write a Python Program to find sum of array?"
   ]
  },
  {
   "cell_type": "code",
   "execution_count": 1,
   "id": "123cb218",
   "metadata": {},
   "outputs": [
    {
     "name": "stdout",
     "output_type": "stream",
     "text": [
      "Sum :  24\n"
     ]
    }
   ],
   "source": [
    "sum =0\n",
    "arr = [1,2,3,4,5,9]\n",
    "for i in range(0,len(arr)):\n",
    "    sum+=arr[i]\n",
    "print(\"Sum : \",sum)"
   ]
  },
  {
   "cell_type": "markdown",
   "id": "e633d6fc",
   "metadata": {},
   "source": [
    "2. Write a Python Program to find largest element in an array?"
   ]
  },
  {
   "cell_type": "code",
   "execution_count": 2,
   "id": "f6b72711",
   "metadata": {},
   "outputs": [
    {
     "name": "stdout",
     "output_type": "stream",
     "text": [
      "20000000005\n"
     ]
    }
   ],
   "source": [
    "a = [1000000,5000000,20000000005,2000,73,100]\n",
    "b = 0\n",
    "\n",
    "for i in range(len(a)):\n",
    "    for j in range(i+1,len(a)):\n",
    "        if a[j]>a[i] and a[j]>b:\n",
    "            b=0\n",
    "            b+=a[j]\n",
    "        elif a[j]<a[i] and a[i]>b:\n",
    "            b=0\n",
    "            b+=a[i]\n",
    "print(b)\n",
    "        \n",
    "            "
   ]
  },
  {
   "cell_type": "markdown",
   "id": "afad7f36",
   "metadata": {},
   "source": [
    "3. Write a Python Program for array rotation?"
   ]
  },
  {
   "cell_type": "code",
   "execution_count": 3,
   "id": "f1476ae5",
   "metadata": {},
   "outputs": [
    {
     "name": "stdout",
     "output_type": "stream",
     "text": [
      "[100, 73, 2000, 20000000005, 5, 100]\n"
     ]
    }
   ],
   "source": [
    "a = [100,5,20000000005,2000,73,100]\n",
    "\n",
    "for i in range(len(a)):\n",
    "    a.insert(i, a[-1])\n",
    "    del a[-1]\n",
    "print(a)\n"
   ]
  },
  {
   "cell_type": "markdown",
   "id": "455fd87e",
   "metadata": {},
   "source": [
    "4. Write a Python Program to Split the array and add the first part to the end?"
   ]
  },
  {
   "cell_type": "code",
   "execution_count": 4,
   "id": "169950ca",
   "metadata": {},
   "outputs": [
    {
     "name": "stdout",
     "output_type": "stream",
     "text": [
      "4\n",
      "[73, 100, 20, 28, 10, 5, 20000000005, 2000]\n"
     ]
    }
   ],
   "source": [
    "import math\n",
    "a = [10,5,20000000005,2000,73,100,20,28]\n",
    "halflen = int(math.floor(len(a)/2))\n",
    "print(halflen)\n",
    "for i in range(0,halflen):\n",
    "    a.insert(len(a),a[i])\n",
    "    \n",
    "a = a[halflen:]\n",
    "print(a)\n",
    "    "
   ]
  },
  {
   "cell_type": "markdown",
   "id": "5452fd4e",
   "metadata": {},
   "source": [
    "5. Write a Python Program to check if given array is Monotonic?"
   ]
  },
  {
   "cell_type": "code",
   "execution_count": 10,
   "id": "0eee0779",
   "metadata": {},
   "outputs": [
    {
     "name": "stdout",
     "output_type": "stream",
     "text": [
      "Enter the lenth of your list : 8\n",
      "1\n",
      "3\n",
      "5\n",
      "46\n",
      "47\n",
      "57\n",
      "88\n",
      "93\n",
      "The List is  [1, 3, 5, 46, 47, 57, 88, 93] Monotonic\n"
     ]
    }
   ],
   "source": [
    "l = int(input(\"Enter the lenth of your list : \"))\n",
    "a = []\n",
    "for i in range(l):\n",
    "    a.append(int(input()))\n",
    "print(\"The List is \",a,end=\" \")\n",
    "\n",
    "b = a.copy()\n",
    "b.sort()\n",
    "c = b[::-1]\n",
    "\n",
    "if a==b or a==c:\n",
    "    print(\"Monotonic\")\n",
    "else:\n",
    "    print(\"not Monotonic\")"
   ]
  }
 ],
 "metadata": {
  "kernelspec": {
   "display_name": "Python 3 (ipykernel)",
   "language": "python",
   "name": "python3"
  },
  "language_info": {
   "codemirror_mode": {
    "name": "ipython",
    "version": 3
   },
   "file_extension": ".py",
   "mimetype": "text/x-python",
   "name": "python",
   "nbconvert_exporter": "python",
   "pygments_lexer": "ipython3",
   "version": "3.9.6"
  }
 },
 "nbformat": 4,
 "nbformat_minor": 5
}
