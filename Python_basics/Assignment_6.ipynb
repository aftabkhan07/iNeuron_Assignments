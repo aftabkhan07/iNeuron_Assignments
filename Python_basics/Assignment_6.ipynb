{
 "cells": [
  {
   "cell_type": "markdown",
   "id": "7159a2c8",
   "metadata": {},
   "source": [
    "# Assignment_6"
   ]
  },
  {
   "cell_type": "markdown",
   "id": "0c543395",
   "metadata": {},
   "source": [
    "1. What are escape characters, and how do you use them?\n",
    "\n",
    "Soln:\n",
    "- In Python strings, the backslash \"\" is a special character, also called the \"escape\" character. It is used in representing certain whitespace characters: \"\\t\" is a tab, \"\\n\" is a newline, and \"\\r\" is a carriage return"
   ]
  },
  {
   "cell_type": "code",
   "execution_count": 9,
   "id": "a9bb29dc",
   "metadata": {},
   "outputs": [
    {
     "name": "stdout",
     "output_type": "stream",
     "text": [
      "hey \n",
      "there whatsapp\n"
     ]
    }
   ],
   "source": [
    "print(\"hey \\nthere \\\n",
    "whatsapp\")\n"
   ]
  },
  {
   "cell_type": "markdown",
   "id": "b21096ef",
   "metadata": {},
   "source": [
    "2. What do the escape characters n and t stand for?\n",
    "\n",
    "Soln:\n",
    "- \"\\t\" is a tab, \"\\n\" is a newline"
   ]
  },
  {
   "cell_type": "markdown",
   "id": "a8e3580b",
   "metadata": {},
   "source": [
    "3. What is the way to include backslash characters in a string?\n",
    "\n",
    "Soln:\n",
    "- print('its a back slash \\ in a line')"
   ]
  },
  {
   "cell_type": "markdown",
   "id": "9066dbe0",
   "metadata": {},
   "source": [
    "4. The string &quot;Howl&#39;s Moving Castle&quot; is a correct value. Why isn&#39;t the single quote character in the\n",
    "word Howl&#39;s not escaped a problem?\n",
    "\n",
    "Soln:\n",
    "- The single quote in Howl's is fine because you've used double quotes to mark the beginning and end of the string"
   ]
  },
  {
   "cell_type": "code",
   "execution_count": 11,
   "id": "69c302f8",
   "metadata": {},
   "outputs": [
    {
     "name": "stdout",
     "output_type": "stream",
     "text": [
      "Howl's Moving Castle\n"
     ]
    }
   ],
   "source": [
    "print(\"Howl's Moving Castle\")"
   ]
  },
  {
   "cell_type": "markdown",
   "id": "4941caa9",
   "metadata": {},
   "source": [
    "5. How do you write a string of newlines if you don&#39;t want to use the n character?\n",
    "\n",
    "Soln:"
   ]
  },
  {
   "cell_type": "code",
   "execution_count": 13,
   "id": "0f535a93",
   "metadata": {},
   "outputs": [
    {
     "name": "stdout",
     "output_type": "stream",
     "text": [
      "hello world\n",
      "newline\n"
     ]
    }
   ],
   "source": [
    "print(\"hello world\",end = '\\n')\n",
    "print(\"newline\")\n"
   ]
  },
  {
   "cell_type": "markdown",
   "id": "b521a09d",
   "metadata": {},
   "source": [
    "6. What are the values of the given expressions?\n",
    "\n",
    "&#39;Hello, world!&#39;[1]\n",
    "\n",
    "&#39;Hello, world!&#39;[0:5]\n",
    "\n",
    "&#39;Hello, world!&#39;[:5]\n",
    "\n",
    "&#39;Hello, world!&#39;[3:]\n",
    "\n",
    "Soln:\n",
    "- 'e'\n",
    "- 'Hello'\n",
    "- 'Hello'\n",
    "- 'lo,world!'"
   ]
  },
  {
   "cell_type": "markdown",
   "id": "1e0037ca",
   "metadata": {},
   "source": [
    "7. What are the values of the following expressions?\n",
    "\n",
    "&#39;Hello&#39;.upper()\n",
    "\n",
    "&#39;Hello&#39;.upper().isupper()\n",
    "\n",
    "&#39;Hello&#39;.upper().lower()\n",
    "\n",
    "Soln:\n",
    "- 'HELLO'\n",
    "- True\n",
    "- 'hello'"
   ]
  },
  {
   "cell_type": "markdown",
   "id": "46527890",
   "metadata": {},
   "source": [
    "8. What are the values of the following expressions?\n",
    "\n",
    "    &#39;Remember, remember, the fifth of July.&#39;.split()\n",
    "\n",
    "    &#39;-&#39;.join(&#39;There can only one.&#39;.split())\n",
    "\n",
    "Soln:"
   ]
  },
  {
   "cell_type": "code",
   "execution_count": 25,
   "id": "2b353685",
   "metadata": {},
   "outputs": [
    {
     "data": {
      "text/plain": [
       "['Remember,', 'remember,', 'the', 'fifth', 'of', 'July.']"
      ]
     },
     "execution_count": 25,
     "metadata": {},
     "output_type": "execute_result"
    }
   ],
   "source": [
    "'Remember, remember, the fifth of July.'.split()"
   ]
  },
  {
   "cell_type": "code",
   "execution_count": 26,
   "id": "71338cec",
   "metadata": {},
   "outputs": [
    {
     "data": {
      "text/plain": [
       "'There-can-only-one.'"
      ]
     },
     "execution_count": 26,
     "metadata": {},
     "output_type": "execute_result"
    }
   ],
   "source": [
    "'-'.join('There can only one.'.split())"
   ]
  },
  {
   "cell_type": "markdown",
   "id": "0acba7b5",
   "metadata": {},
   "source": [
    "9. What are the methods for right-justifying, left-justifying, and centering a string?"
   ]
  },
  {
   "cell_type": "code",
   "execution_count": 27,
   "id": "ed2089e3",
   "metadata": {},
   "outputs": [
    {
     "data": {
      "text/plain": [
       "'-----Aftab'"
      ]
     },
     "execution_count": 27,
     "metadata": {},
     "output_type": "execute_result"
    }
   ],
   "source": [
    "# Right justified\n",
    "a =\"Aftab\"\n",
    "a.rjust(10,\"-\")"
   ]
  },
  {
   "cell_type": "code",
   "execution_count": 29,
   "id": "1304cd0d",
   "metadata": {},
   "outputs": [
    {
     "data": {
      "text/plain": [
       "'Aftab#####'"
      ]
     },
     "execution_count": 29,
     "metadata": {},
     "output_type": "execute_result"
    }
   ],
   "source": [
    "# Left justified\n",
    "a =\"Aftab\"\n",
    "a.ljust(10,\"#\")"
   ]
  },
  {
   "cell_type": "code",
   "execution_count": 31,
   "id": "00f2caa1",
   "metadata": {},
   "outputs": [
    {
     "data": {
      "text/plain": [
       "'*****************Aftab******************'"
      ]
     },
     "execution_count": 31,
     "metadata": {},
     "output_type": "execute_result"
    }
   ],
   "source": [
    "# Center justified\n",
    "a =\"Aftab\"\n",
    "a.center(40,\"*\")"
   ]
  },
  {
   "cell_type": "markdown",
   "id": "c07b2555",
   "metadata": {},
   "source": [
    "10. What is the best way to remove whitespace characters from the start or end?\n",
    "\n",
    "Soln:"
   ]
  },
  {
   "cell_type": "code",
   "execution_count": 40,
   "id": "f18aee4a",
   "metadata": {},
   "outputs": [
    {
     "data": {
      "text/plain": [
       "'aftab khan ayub'"
      ]
     },
     "execution_count": 40,
     "metadata": {},
     "output_type": "execute_result"
    }
   ],
   "source": [
    "a = \"  aftab khan ayub  \"\n",
    "a.strip()"
   ]
  }
 ],
 "metadata": {
  "kernelspec": {
   "display_name": "Python 3 (ipykernel)",
   "language": "python",
   "name": "python3"
  },
  "language_info": {
   "codemirror_mode": {
    "name": "ipython",
    "version": 3
   },
   "file_extension": ".py",
   "mimetype": "text/x-python",
   "name": "python",
   "nbconvert_exporter": "python",
   "pygments_lexer": "ipython3",
   "version": "3.9.7"
  }
 },
 "nbformat": 4,
 "nbformat_minor": 5
}
