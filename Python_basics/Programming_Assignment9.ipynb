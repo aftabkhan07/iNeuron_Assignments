{
 "cells": [
  {
   "cell_type": "markdown",
   "id": "88365e2b",
   "metadata": {},
   "source": [
    "# Programming_Assignment9"
   ]
  },
  {
   "cell_type": "markdown",
   "id": "2585a5b2",
   "metadata": {},
   "source": [
    "1. Write a Python program to check if the given number is a Disarium Number?"
   ]
  },
  {
   "cell_type": "code",
   "execution_count": 11,
   "id": "5970b157",
   "metadata": {},
   "outputs": [
    {
     "name": "stdout",
     "output_type": "stream",
     "text": [
      "enter number : 175\n",
      "175 is a Disarium Number\n"
     ]
    }
   ],
   "source": [
    "a = input(\"enter number : \")\n",
    "b = []\n",
    "\n",
    "for i in range(0,len(a)):\n",
    "    b.append(int(a[i])**(i+1))\n",
    "\n",
    "if sum(b) == int(a):\n",
    "    print(f\"{sum(b)} is a Disarium Number\")\n",
    "else:\n",
    "    print(\"It is not a Disarium Number\")\n"
   ]
  },
  {
   "cell_type": "markdown",
   "id": "b09d01c0",
   "metadata": {},
   "source": [
    "2. Write a Python program to print all disarium numbers betweenm 1 to 100?"
   ]
  },
  {
   "cell_type": "code",
   "execution_count": 2,
   "id": "31ad252f",
   "metadata": {},
   "outputs": [
    {
     "name": "stdout",
     "output_type": "stream",
     "text": [
      "[1, 2, 3, 4, 5, 6, 7, 8, 9, 89]\n"
     ]
    }
   ],
   "source": [
    "ans = []\n",
    "\n",
    "for j in range(1,100):\n",
    "    b=[]\n",
    "    for i in range(0,len(str(j))):\n",
    "        b.append(int(str(j)[i])**(i+1))\n",
    "    if sum(b) == j:\n",
    "        ans.append(j)\n",
    "print(ans)\n",
    "        \n"
   ]
  },
  {
   "cell_type": "markdown",
   "id": "6c5e2bbe",
   "metadata": {},
   "source": [
    "3. Write a Python program to check if the given number is Happy Number?"
   ]
  },
  {
   "cell_type": "code",
   "execution_count": 6,
   "id": "a76e9747",
   "metadata": {},
   "outputs": [
    {
     "name": "stdout",
     "output_type": "stream",
     "text": [
      "enter number : 32\n",
      "1\n",
      "Number 32 is a happy number\n"
     ]
    }
   ],
   "source": [
    "a = input(\"enter number : \")\n",
    "b = 0\n",
    "\n",
    "while (len(str(b)) > 1) or b==0:\n",
    "    d=[]\n",
    "    if b==0:\n",
    "        for i in range(len(a)):\n",
    "            d.append(int(str(a)[i])**2)\n",
    "        b += sum(d)\n",
    "    else:\n",
    "        for j in range(len(str(b))):\n",
    "            d.append(int(str(b)[j])**2)\n",
    "        b = sum(d)\n",
    "\n",
    "print(b)\n",
    "\n",
    "if b==1:\n",
    "    print(f\"Number {a} is a happy number\")\n",
    "else:\n",
    "    print(f\"Number {a} is not a happy number\")\n",
    "    \n",
    "\n"
   ]
  },
  {
   "cell_type": "markdown",
   "id": "18ec6353",
   "metadata": {},
   "source": [
    "4. Write a Python program to print all happy numbers between 1 and 100?"
   ]
  },
  {
   "cell_type": "code",
   "execution_count": 10,
   "id": "9a202da4",
   "metadata": {},
   "outputs": [
    {
     "name": "stdout",
     "output_type": "stream",
     "text": [
      "[1, 7, 10, 13, 19, 23, 28, 31, 32, 44, 49, 68, 70, 79, 82, 86, 91, 94, 97, 100]\n"
     ]
    }
   ],
   "source": [
    "a = []\n",
    "\n",
    "for k in range(1,100+1):\n",
    "    b=0\n",
    "    while (len(str(b)) > 1) or b==0:\n",
    "        d=[]\n",
    "        if b==0:\n",
    "            for i in range(len(str(k))):\n",
    "                d.append(int(str(k)[i])**2)\n",
    "            b += sum(d)\n",
    "        else:\n",
    "            for j in range(len(str(b))):\n",
    "                d.append(int(str(b)[j])**2)\n",
    "            b = sum(d)\n",
    "            \n",
    "    if b==1:\n",
    "        a.append(k)\n",
    "\n",
    "print(a)"
   ]
  },
  {
   "cell_type": "markdown",
   "id": "9ee6374c",
   "metadata": {},
   "source": [
    "5. Write a Python program to determine whether the given number is a Harshad Number?"
   ]
  },
  {
   "cell_type": "code",
   "execution_count": 16,
   "id": "66d3e38b",
   "metadata": {},
   "outputs": [
    {
     "name": "stdout",
     "output_type": "stream",
     "text": [
      "enter number : 171\n",
      "171 is a harshad number\n"
     ]
    }
   ],
   "source": [
    "a = input(\"enter number : \")\n",
    "divisor = 0\n",
    "\n",
    "for i in range(len(a)):\n",
    "    divisor+=int(a[i])\n",
    "\n",
    "if int(a)%divisor == 0:\n",
    "    print(f\"{a} is a harshad number\")\n",
    "else:\n",
    "    print(f\"{a} is not a harshad number\")"
   ]
  },
  {
   "cell_type": "markdown",
   "id": "aa1335b2",
   "metadata": {},
   "source": [
    "6. Write a Python program to print all pronic numbers between 1 and 100?"
   ]
  },
  {
   "cell_type": "code",
   "execution_count": 31,
   "id": "d846cb11",
   "metadata": {},
   "outputs": [
    {
     "name": "stdout",
     "output_type": "stream",
     "text": [
      "[2, 6, 12, 20, 30, 42, 56, 72, 90]\n"
     ]
    }
   ],
   "source": [
    "a = []\n",
    "\n",
    "for k in range(0,100):\n",
    "    for i in range(0,k+1):\n",
    "        for j in range(0,k):\n",
    "            if i*j == k and (i-j==1 or j-i==-1):\n",
    "                a.append(k)\n",
    "\n",
    "print(a)"
   ]
  }
 ],
 "metadata": {
  "kernelspec": {
   "display_name": "Python 3 (ipykernel)",
   "language": "python",
   "name": "python3"
  },
  "language_info": {
   "codemirror_mode": {
    "name": "ipython",
    "version": 3
   },
   "file_extension": ".py",
   "mimetype": "text/x-python",
   "name": "python",
   "nbconvert_exporter": "python",
   "pygments_lexer": "ipython3",
   "version": "3.9.6"
  }
 },
 "nbformat": 4,
 "nbformat_minor": 5
}
